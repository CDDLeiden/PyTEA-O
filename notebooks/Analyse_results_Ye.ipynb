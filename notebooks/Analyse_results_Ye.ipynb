{
 "cells": [
  {
   "cell_type": "code",
   "execution_count": 2,
   "metadata": {},
   "outputs": [],
   "source": [
    "import os\n",
    "import sys\n",
    "\n",
    "relative_path = os.path.join('..', 'src')\n",
    "\n",
    "# Insert the relative path to the system path\n",
    "sys.path.insert(0, relative_path)\n",
    "\n",
    "import plotly\n",
    "import warnings\n",
    "import pandas as pd\n",
    "\n",
    "pd.set_option('display.max_columns', 1000)\n",
    "pd.set_option('display.max_rows', 1000)\n",
    "\n",
    "%load_ext autoreload\n",
    "%autoreload 2\n",
    "\n",
    "import plotly.express as px\n",
    "import plotly.graph_objects as go\n",
    "\n",
    "warnings.filterwarnings('ignore')\n",
    "\n",
    "import ast\n",
    "import re\n",
    "\n",
    "from TEA_analysis import TEA_analysis"
   ]
  },
  {
   "cell_type": "code",
   "execution_count": 40,
   "metadata": {},
   "outputs": [
    {
     "name": "stdout",
     "output_type": "stream",
     "text": [
      "Global entropy: 295\n",
      "Average subfamily entropy: 295\n",
      "Sequence positions: 295\n"
     ]
    }
   ],
   "source": [
    "# Plot results ye\n",
    "\n",
    "seq_positions_file = \"/zfsdata/data/rosan/GitHub_TEAO/testdata_Ye/SE/0_0_0.shannon_entropy.txt\"\n",
    "msa_residues = []\n",
    "msa_positions = []\n",
    "\n",
    "with open(seq_positions_file, 'r') as f:\n",
    "    content = f.readlines()[1:]\n",
    "    for line in content:\n",
    "        line = line.strip().split()\n",
    "        pos = int(line[0])\n",
    "        msa_pos = int(line[1])\n",
    "        res = str(line[2])\n",
    "        msa_residues.append(str(msa_pos) + res)\n",
    "        msa_positions.append(pos)\n",
    "\n",
    "# Read data\n",
    "global_entropy_file = \"/zfsdata/data/rosan/GitHub_TEAO/testdata_Ye/SE/shannon_entropy.txt\"\n",
    "global_entropy = []\n",
    "gapped_positions = []\n",
    "\n",
    "with open(global_entropy_file, 'r') as f:\n",
    "    content = f.readlines()[1:]\n",
    "    for num, line in enumerate(content):\n",
    "        line = line.strip().split()\n",
    "        SE_glob = float(line[1])\n",
    "        msa_pos = int(line[0])\n",
    "        if not msa_pos in msa_positions:\n",
    "            msa_residues.insert(num, str(msa_pos) + \"-\")\n",
    "        global_entropy.append(SE_glob)\n",
    "\n",
    "\n",
    "avergae_subfam_file = \"/zfsdata/data/rosan/GitHub_TEAO/testdata_Ye/SE/average_shannon_entropy.txt\"\n",
    "average_subfam = []\n",
    "\n",
    "with open(avergae_subfam_file, 'r') as f:\n",
    "    content = f.readlines()\n",
    "    for line in content:\n",
    "        line = line.strip().split()\n",
    "        SE_avg = float(line[1])\n",
    "        average_subfam.append(SE_avg)\n",
    "\n",
    "\n",
    "\n",
    "\n",
    "\n",
    "print(f\"Global entropy: {len(global_entropy)}\")\n",
    "print(f\"Average subfamily entropy: {len(average_subfam)}\")\n",
    "print(f\"Sequence positions: {len(msa_residues)}\")"
   ]
  },
  {
   "cell_type": "code",
   "execution_count": 12,
   "metadata": {},
   "outputs": [
    {
     "data": {
      "application/vnd.plotly.v1+json": {
       "config": {
        "plotlyServerURL": "https://plot.ly"
       },
       "data": [
        {
         "mode": "lines",
         "name": "Global entropy",
         "type": "scatter",
         "x": [
          1,
          2,
          3,
          4,
          5,
          6,
          7,
          8,
          9,
          10,
          11,
          12,
          13,
          14,
          15,
          16,
          17,
          18,
          19,
          20,
          21,
          22,
          23,
          24,
          25,
          26,
          27,
          28,
          29,
          30,
          31,
          32,
          33,
          34,
          35,
          36,
          37,
          38,
          39,
          40,
          41,
          42,
          43,
          44,
          45,
          46,
          47,
          48,
          49,
          50,
          51,
          52,
          53,
          54,
          55,
          56,
          57,
          58,
          59,
          60,
          61,
          62,
          63,
          64,
          65,
          66,
          67,
          68,
          69,
          70,
          71,
          72,
          73,
          74,
          75,
          76,
          77,
          78,
          79,
          80,
          81,
          82,
          83,
          84,
          85,
          86,
          87,
          88,
          89,
          90,
          91,
          92,
          93,
          94,
          95,
          96,
          97,
          98,
          99,
          100,
          101,
          102,
          103,
          104,
          105,
          106,
          107,
          108,
          109,
          110,
          111,
          112,
          113,
          114,
          115,
          116,
          117,
          118,
          119,
          120,
          121,
          122,
          123,
          124,
          125,
          126,
          127,
          128,
          129,
          130,
          131,
          132,
          133,
          134,
          135,
          136,
          137,
          138,
          139,
          140,
          141,
          142,
          143,
          144,
          145,
          146,
          147,
          148,
          149,
          150,
          151,
          152,
          153,
          154,
          155,
          156,
          157,
          158,
          159,
          160,
          161,
          162,
          163,
          164,
          165,
          166,
          167,
          168,
          169,
          170,
          171,
          172,
          173,
          174,
          175,
          176,
          177,
          178,
          179,
          180,
          181,
          182,
          183,
          184,
          185,
          186,
          187,
          188,
          189,
          190,
          191,
          192,
          193,
          194,
          195,
          196,
          197,
          198,
          199,
          200,
          201,
          202,
          203,
          204,
          205,
          206,
          207,
          208,
          209,
          210,
          211,
          212,
          213,
          214,
          215,
          216,
          217,
          218,
          219,
          220,
          221,
          222,
          223,
          224,
          225,
          226,
          227,
          228,
          229,
          230,
          231,
          232,
          233,
          234,
          235,
          236,
          237,
          238,
          239,
          240,
          241,
          242,
          243,
          244,
          245,
          246,
          247,
          248,
          249,
          250,
          251,
          252,
          253,
          254,
          255,
          256,
          257,
          258,
          259,
          260,
          261,
          262,
          263,
          264,
          265,
          266,
          267,
          268,
          269,
          270,
          271,
          272,
          273,
          274,
          275,
          276,
          277,
          278,
          279,
          280,
          281,
          282,
          283,
          284,
          285,
          286,
          287,
          288,
          289,
          290,
          291,
          292,
          293,
          294,
          295
         ],
         "y": [
          -6.04,
          -6.04,
          -6.18,
          -6.21,
          -6.13,
          -6.04,
          -6.29,
          -6.36,
          -6.09,
          -6.27,
          -6.18,
          -6.48,
          -5.11,
          -5.25,
          -5.29,
          -5.4,
          -5.57,
          -4.71,
          -5.38,
          -5.12,
          -5.58,
          -5.97,
          -5.53,
          -5.79,
          -5.69,
          -5.77,
          -6.69,
          -6.72,
          -4.69,
          -4.45,
          -5.02,
          -4.65,
          -4.79,
          -4.23,
          -4.7,
          -4.99,
          -4.74,
          -5.71,
          -5.68,
          -6.06,
          -5.66,
          -5.57,
          -5.59,
          -5.85,
          -5.55,
          -5.66,
          -5.45,
          -4.64,
          -4.87,
          -5.24,
          -4.14,
          -4.1,
          -4.69,
          -4.95,
          -4.73,
          -5.01,
          -4.18,
          -4.92,
          -4.82,
          -5.14,
          -5.26,
          -4.37,
          -4.88,
          -4.83,
          -4.36,
          -5.08,
          -5.14,
          -6.91,
          -6.92,
          -6.91,
          -4.75,
          -4.44,
          -5.19,
          -3.98,
          -4.01,
          -5.39,
          -5.34,
          -6.04,
          -6.04,
          -5.6,
          -4.25,
          -4.03,
          -4.33,
          -5.89,
          -6.07,
          -6.16,
          -6.14,
          -6.09,
          -4.92,
          -5.13,
          -4.96,
          -4.76,
          -6.39,
          -6.72,
          -6.04,
          -5.91,
          -4.62,
          -4.83,
          -4.65,
          -6.87,
          -3.89,
          -4.44,
          -4.02,
          -4.42,
          -5.77,
          -5.94,
          -5.53,
          -5.3,
          -6.48,
          -6.8,
          -6.47,
          -6.36,
          -6.32,
          -5.84,
          -5.51,
          -5.39,
          -5.76,
          -6.13,
          -6.89,
          -6.08,
          -5.44,
          -5.5,
          -5.53,
          -5.21,
          -5.89,
          -5.58,
          -4.76,
          -4.85,
          -5.36,
          -5.85,
          -5.99,
          -6.1,
          -5.92,
          -5.99,
          -5.87,
          -6.9,
          -5.96,
          -6.02,
          -6.4,
          -6.05,
          -6.84,
          -6.81,
          -6.88,
          -6.62,
          -6.17,
          -4.88,
          -4.86,
          -5.44,
          -5.64,
          -6.15,
          -6.93,
          -6.97,
          -6.97,
          -4.74,
          -5.09,
          -4.71,
          -4.57,
          -4.65,
          -4.26,
          -4.62,
          -4.8,
          -4.81,
          -5.35,
          -6.82,
          -6.19,
          -6.78,
          -6.85,
          -6.63,
          -6.46,
          -5.84,
          -5.71,
          -4.79,
          -6.56,
          -5.44,
          -6.02,
          -5.4,
          -5.77,
          -4.74,
          -4.96,
          -4.93,
          -4.75,
          -4.97,
          -4.68,
          -4.46,
          -4.18,
          -6.84,
          -6.86,
          -6.91,
          -4.5,
          -4.54,
          -4.47,
          -4.14,
          -3.94,
          -3.55,
          -4.08,
          -3.93,
          -4.1,
          -3.82,
          -3.7,
          -4.34,
          -3.9,
          -4.08,
          -4.07,
          -3.98,
          -3.77,
          -3.06,
          -3.7,
          -3.84,
          -3.97,
          -3.25,
          -3.55,
          -3.74,
          -3.76,
          -3.79,
          -3.88,
          -3.62,
          -3.44,
          -3.6,
          -4.1,
          -3.36,
          -3.83,
          -3.07,
          -3.36,
          -3.06,
          -3.25,
          -3.87,
          -3.78,
          -3.86,
          -4.03,
          -3.78,
          -3.49,
          -3.69,
          -3.59,
          -3.71,
          -3.86,
          -1.9,
          -2.52,
          -3.47,
          -2.58,
          -2.88,
          -3.14,
          -2.87,
          -2.75,
          -3.12,
          -3.32,
          -2.75,
          -2.09,
          -2.73,
          -3.34,
          -2.52,
          -2.22,
          -2.54,
          -3.07,
          -2.96,
          -3.19,
          -3.5,
          -2.49,
          -3.39,
          -2.56,
          -3.3,
          -2.56,
          -2.2,
          -2.71,
          -2.75,
          -3,
          0,
          -2.3,
          -0.07,
          -1.82,
          -0.59,
          -2.45,
          -0.72,
          -2.38,
          -1.8,
          -1.06,
          -1.81,
          -1.27,
          -1.18,
          -1.69,
          -1.44,
          -1.21,
          -1.39,
          -2.71,
          -1.52,
          -0.4,
          -0.98,
          -0.07,
          -1.14,
          -2.05,
          -1.97,
          0,
          -1.14,
          -1.99,
          -1.87,
          -0.48
         ]
        },
        {
         "mode": "lines",
         "name": "Average subfamily entropy",
         "type": "scatter",
         "x": [
          1,
          2,
          3,
          4,
          5,
          6,
          7,
          8,
          9,
          10,
          11,
          12,
          13,
          14,
          15,
          16,
          17,
          18,
          19,
          20,
          21,
          22,
          23,
          24,
          25,
          26,
          27,
          28,
          29,
          30,
          31,
          32,
          33,
          34,
          35,
          36,
          37,
          38,
          39,
          40,
          41,
          42,
          43,
          44,
          45,
          46,
          47,
          48,
          49,
          50,
          51,
          52,
          53,
          54,
          55,
          56,
          57,
          58,
          59,
          60,
          61,
          62,
          63,
          64,
          65,
          66,
          67,
          68,
          69,
          70,
          71,
          72,
          73,
          74,
          75,
          76,
          77,
          78,
          79,
          80,
          81,
          82,
          83,
          84,
          85,
          86,
          87,
          88,
          89,
          90,
          91,
          92,
          93,
          94,
          95,
          96,
          97,
          98,
          99,
          100,
          101,
          102,
          103,
          104,
          105,
          106,
          107,
          108,
          109,
          110,
          111,
          112,
          113,
          114,
          115,
          116,
          117,
          118,
          119,
          120,
          121,
          122,
          123,
          124,
          125,
          126,
          127,
          128,
          129,
          130,
          131,
          132,
          133,
          134,
          135,
          136,
          137,
          138,
          139,
          140,
          141,
          142,
          143,
          144,
          145,
          146,
          147,
          148,
          149,
          150,
          151,
          152,
          153,
          154,
          155,
          156,
          157,
          158,
          159,
          160,
          161,
          162,
          163,
          164,
          165,
          166,
          167,
          168,
          169,
          170,
          171,
          172,
          173,
          174,
          175,
          176,
          177,
          178,
          179,
          180,
          181,
          182,
          183,
          184,
          185,
          186,
          187,
          188,
          189,
          190,
          191,
          192,
          193,
          194,
          195,
          196,
          197,
          198,
          199,
          200,
          201,
          202,
          203,
          204,
          205,
          206,
          207,
          208,
          209,
          210,
          211,
          212,
          213,
          214,
          215,
          216,
          217,
          218,
          219,
          220,
          221,
          222,
          223,
          224,
          225,
          226,
          227,
          228,
          229,
          230,
          231,
          232,
          233,
          234,
          235,
          236,
          237,
          238,
          239,
          240,
          241,
          242,
          243,
          244,
          245,
          246,
          247,
          248,
          249,
          250,
          251,
          252,
          253,
          254,
          255,
          256,
          257,
          258,
          259,
          260,
          261,
          262,
          263,
          264,
          265,
          266,
          267,
          268,
          269,
          270,
          271,
          272,
          273,
          274,
          275,
          276,
          277,
          278,
          279,
          280,
          281,
          282,
          283,
          284,
          285,
          286,
          287,
          288,
          289,
          290,
          291,
          292,
          293,
          294,
          295
         ],
         "y": [
          0.54,
          0.54,
          0.55,
          0.55,
          0.56,
          0.54,
          0.56,
          0.58,
          0.54,
          0.56,
          0.56,
          0.59,
          0.4,
          0.41,
          0.44,
          0.43,
          0.49,
          0.39,
          0.45,
          0.45,
          0.44,
          0.48,
          0.45,
          0.47,
          0.45,
          0.47,
          0.61,
          0.62,
          0.34,
          0.32,
          0.36,
          0.3,
          0.35,
          0.3,
          0.3,
          0.32,
          0.32,
          0.43,
          0.45,
          0.52,
          0.47,
          0.44,
          0.45,
          0.48,
          0.44,
          0.43,
          0.42,
          0.39,
          0.37,
          0.41,
          0.24,
          0.24,
          0.32,
          0.39,
          0.44,
          0.44,
          0.33,
          0.41,
          0.42,
          0.43,
          0.48,
          0.41,
          0.47,
          0.44,
          0.43,
          0.5,
          0.47,
          0.66,
          0.66,
          0.66,
          0.44,
          0.4,
          0.48,
          0.38,
          0.39,
          0.51,
          0.48,
          0.56,
          0.56,
          0.5,
          0.37,
          0.31,
          0.36,
          0.51,
          0.53,
          0.53,
          0.52,
          0.52,
          0.41,
          0.43,
          0.39,
          0.41,
          0.57,
          0.62,
          0.53,
          0.48,
          0.41,
          0.45,
          0.4,
          0.66,
          0.38,
          0.42,
          0.4,
          0.41,
          0.61,
          0.6,
          0.59,
          0.55,
          0.63,
          0.66,
          0.64,
          0.6,
          0.6,
          0.57,
          0.62,
          0.58,
          0.6,
          0.62,
          0.66,
          0.63,
          0.58,
          0.6,
          0.57,
          0.59,
          0.59,
          0.59,
          0.55,
          0.56,
          0.58,
          0.62,
          0.6,
          0.62,
          0.61,
          0.61,
          0.61,
          0.66,
          0.61,
          0.6,
          0.64,
          0.6,
          0.66,
          0.66,
          0.66,
          0.64,
          0.62,
          0.56,
          0.56,
          0.56,
          0.6,
          0.63,
          0.67,
          0.67,
          0.67,
          0.54,
          0.55,
          0.54,
          0.52,
          0.54,
          0.47,
          0.49,
          0.49,
          0.53,
          0.59,
          0.66,
          0.6,
          0.65,
          0.66,
          0.64,
          0.63,
          0.58,
          0.54,
          0.51,
          0.63,
          0.56,
          0.6,
          0.55,
          0.58,
          0.5,
          0.51,
          0.52,
          0.53,
          0.56,
          0.43,
          0.47,
          0.49,
          0.65,
          0.65,
          0.66,
          0.51,
          0.5,
          0.47,
          0.5,
          0.46,
          0.4,
          0.46,
          0.47,
          0.48,
          0.44,
          0.41,
          0.48,
          0.44,
          0.43,
          0.46,
          0.49,
          0.42,
          0.36,
          0.38,
          0.39,
          0.39,
          0.35,
          0.33,
          0.35,
          0.4,
          0.33,
          0.36,
          0.32,
          0.36,
          0.35,
          0.44,
          0.33,
          0.38,
          0.33,
          0.33,
          0.28,
          0.36,
          0.41,
          0.41,
          0.4,
          0.39,
          0.41,
          0.39,
          0.36,
          0.36,
          0.37,
          0.39,
          0.2,
          0.18,
          0.32,
          0.24,
          0.22,
          0.26,
          0.33,
          0.25,
          0.26,
          0.25,
          0.28,
          0.23,
          0.26,
          0.29,
          0.21,
          0.21,
          0.17,
          0.19,
          0.21,
          0.32,
          0.26,
          0.22,
          0.25,
          0.28,
          0.27,
          0.27,
          0.23,
          0.25,
          0.2,
          0.2,
          0,
          0.18,
          0.01,
          0.13,
          0.05,
          0.18,
          0.05,
          0.14,
          0.15,
          0.09,
          0.12,
          0.12,
          0.12,
          0.14,
          0.11,
          0.08,
          0.07,
          0.23,
          0.08,
          0.04,
          0.08,
          0.01,
          0.11,
          0.13,
          0.15,
          0,
          0.08,
          0.15,
          0.14,
          0.02
         ]
        }
       ],
       "layout": {
        "template": {
         "data": {
          "bar": [
           {
            "error_x": {
             "color": "#2a3f5f"
            },
            "error_y": {
             "color": "#2a3f5f"
            },
            "marker": {
             "line": {
              "color": "#E5ECF6",
              "width": 0.5
             },
             "pattern": {
              "fillmode": "overlay",
              "size": 10,
              "solidity": 0.2
             }
            },
            "type": "bar"
           }
          ],
          "barpolar": [
           {
            "marker": {
             "line": {
              "color": "#E5ECF6",
              "width": 0.5
             },
             "pattern": {
              "fillmode": "overlay",
              "size": 10,
              "solidity": 0.2
             }
            },
            "type": "barpolar"
           }
          ],
          "carpet": [
           {
            "aaxis": {
             "endlinecolor": "#2a3f5f",
             "gridcolor": "white",
             "linecolor": "white",
             "minorgridcolor": "white",
             "startlinecolor": "#2a3f5f"
            },
            "baxis": {
             "endlinecolor": "#2a3f5f",
             "gridcolor": "white",
             "linecolor": "white",
             "minorgridcolor": "white",
             "startlinecolor": "#2a3f5f"
            },
            "type": "carpet"
           }
          ],
          "choropleth": [
           {
            "colorbar": {
             "outlinewidth": 0,
             "ticks": ""
            },
            "type": "choropleth"
           }
          ],
          "contour": [
           {
            "colorbar": {
             "outlinewidth": 0,
             "ticks": ""
            },
            "colorscale": [
             [
              0,
              "#0d0887"
             ],
             [
              0.1111111111111111,
              "#46039f"
             ],
             [
              0.2222222222222222,
              "#7201a8"
             ],
             [
              0.3333333333333333,
              "#9c179e"
             ],
             [
              0.4444444444444444,
              "#bd3786"
             ],
             [
              0.5555555555555556,
              "#d8576b"
             ],
             [
              0.6666666666666666,
              "#ed7953"
             ],
             [
              0.7777777777777778,
              "#fb9f3a"
             ],
             [
              0.8888888888888888,
              "#fdca26"
             ],
             [
              1,
              "#f0f921"
             ]
            ],
            "type": "contour"
           }
          ],
          "contourcarpet": [
           {
            "colorbar": {
             "outlinewidth": 0,
             "ticks": ""
            },
            "type": "contourcarpet"
           }
          ],
          "heatmap": [
           {
            "colorbar": {
             "outlinewidth": 0,
             "ticks": ""
            },
            "colorscale": [
             [
              0,
              "#0d0887"
             ],
             [
              0.1111111111111111,
              "#46039f"
             ],
             [
              0.2222222222222222,
              "#7201a8"
             ],
             [
              0.3333333333333333,
              "#9c179e"
             ],
             [
              0.4444444444444444,
              "#bd3786"
             ],
             [
              0.5555555555555556,
              "#d8576b"
             ],
             [
              0.6666666666666666,
              "#ed7953"
             ],
             [
              0.7777777777777778,
              "#fb9f3a"
             ],
             [
              0.8888888888888888,
              "#fdca26"
             ],
             [
              1,
              "#f0f921"
             ]
            ],
            "type": "heatmap"
           }
          ],
          "heatmapgl": [
           {
            "colorbar": {
             "outlinewidth": 0,
             "ticks": ""
            },
            "colorscale": [
             [
              0,
              "#0d0887"
             ],
             [
              0.1111111111111111,
              "#46039f"
             ],
             [
              0.2222222222222222,
              "#7201a8"
             ],
             [
              0.3333333333333333,
              "#9c179e"
             ],
             [
              0.4444444444444444,
              "#bd3786"
             ],
             [
              0.5555555555555556,
              "#d8576b"
             ],
             [
              0.6666666666666666,
              "#ed7953"
             ],
             [
              0.7777777777777778,
              "#fb9f3a"
             ],
             [
              0.8888888888888888,
              "#fdca26"
             ],
             [
              1,
              "#f0f921"
             ]
            ],
            "type": "heatmapgl"
           }
          ],
          "histogram": [
           {
            "marker": {
             "pattern": {
              "fillmode": "overlay",
              "size": 10,
              "solidity": 0.2
             }
            },
            "type": "histogram"
           }
          ],
          "histogram2d": [
           {
            "colorbar": {
             "outlinewidth": 0,
             "ticks": ""
            },
            "colorscale": [
             [
              0,
              "#0d0887"
             ],
             [
              0.1111111111111111,
              "#46039f"
             ],
             [
              0.2222222222222222,
              "#7201a8"
             ],
             [
              0.3333333333333333,
              "#9c179e"
             ],
             [
              0.4444444444444444,
              "#bd3786"
             ],
             [
              0.5555555555555556,
              "#d8576b"
             ],
             [
              0.6666666666666666,
              "#ed7953"
             ],
             [
              0.7777777777777778,
              "#fb9f3a"
             ],
             [
              0.8888888888888888,
              "#fdca26"
             ],
             [
              1,
              "#f0f921"
             ]
            ],
            "type": "histogram2d"
           }
          ],
          "histogram2dcontour": [
           {
            "colorbar": {
             "outlinewidth": 0,
             "ticks": ""
            },
            "colorscale": [
             [
              0,
              "#0d0887"
             ],
             [
              0.1111111111111111,
              "#46039f"
             ],
             [
              0.2222222222222222,
              "#7201a8"
             ],
             [
              0.3333333333333333,
              "#9c179e"
             ],
             [
              0.4444444444444444,
              "#bd3786"
             ],
             [
              0.5555555555555556,
              "#d8576b"
             ],
             [
              0.6666666666666666,
              "#ed7953"
             ],
             [
              0.7777777777777778,
              "#fb9f3a"
             ],
             [
              0.8888888888888888,
              "#fdca26"
             ],
             [
              1,
              "#f0f921"
             ]
            ],
            "type": "histogram2dcontour"
           }
          ],
          "mesh3d": [
           {
            "colorbar": {
             "outlinewidth": 0,
             "ticks": ""
            },
            "type": "mesh3d"
           }
          ],
          "parcoords": [
           {
            "line": {
             "colorbar": {
              "outlinewidth": 0,
              "ticks": ""
             }
            },
            "type": "parcoords"
           }
          ],
          "pie": [
           {
            "automargin": true,
            "type": "pie"
           }
          ],
          "scatter": [
           {
            "fillpattern": {
             "fillmode": "overlay",
             "size": 10,
             "solidity": 0.2
            },
            "type": "scatter"
           }
          ],
          "scatter3d": [
           {
            "line": {
             "colorbar": {
              "outlinewidth": 0,
              "ticks": ""
             }
            },
            "marker": {
             "colorbar": {
              "outlinewidth": 0,
              "ticks": ""
             }
            },
            "type": "scatter3d"
           }
          ],
          "scattercarpet": [
           {
            "marker": {
             "colorbar": {
              "outlinewidth": 0,
              "ticks": ""
             }
            },
            "type": "scattercarpet"
           }
          ],
          "scattergeo": [
           {
            "marker": {
             "colorbar": {
              "outlinewidth": 0,
              "ticks": ""
             }
            },
            "type": "scattergeo"
           }
          ],
          "scattergl": [
           {
            "marker": {
             "colorbar": {
              "outlinewidth": 0,
              "ticks": ""
             }
            },
            "type": "scattergl"
           }
          ],
          "scattermapbox": [
           {
            "marker": {
             "colorbar": {
              "outlinewidth": 0,
              "ticks": ""
             }
            },
            "type": "scattermapbox"
           }
          ],
          "scatterpolar": [
           {
            "marker": {
             "colorbar": {
              "outlinewidth": 0,
              "ticks": ""
             }
            },
            "type": "scatterpolar"
           }
          ],
          "scatterpolargl": [
           {
            "marker": {
             "colorbar": {
              "outlinewidth": 0,
              "ticks": ""
             }
            },
            "type": "scatterpolargl"
           }
          ],
          "scatterternary": [
           {
            "marker": {
             "colorbar": {
              "outlinewidth": 0,
              "ticks": ""
             }
            },
            "type": "scatterternary"
           }
          ],
          "surface": [
           {
            "colorbar": {
             "outlinewidth": 0,
             "ticks": ""
            },
            "colorscale": [
             [
              0,
              "#0d0887"
             ],
             [
              0.1111111111111111,
              "#46039f"
             ],
             [
              0.2222222222222222,
              "#7201a8"
             ],
             [
              0.3333333333333333,
              "#9c179e"
             ],
             [
              0.4444444444444444,
              "#bd3786"
             ],
             [
              0.5555555555555556,
              "#d8576b"
             ],
             [
              0.6666666666666666,
              "#ed7953"
             ],
             [
              0.7777777777777778,
              "#fb9f3a"
             ],
             [
              0.8888888888888888,
              "#fdca26"
             ],
             [
              1,
              "#f0f921"
             ]
            ],
            "type": "surface"
           }
          ],
          "table": [
           {
            "cells": {
             "fill": {
              "color": "#EBF0F8"
             },
             "line": {
              "color": "white"
             }
            },
            "header": {
             "fill": {
              "color": "#C8D4E3"
             },
             "line": {
              "color": "white"
             }
            },
            "type": "table"
           }
          ]
         },
         "layout": {
          "annotationdefaults": {
           "arrowcolor": "#2a3f5f",
           "arrowhead": 0,
           "arrowwidth": 1
          },
          "autotypenumbers": "strict",
          "coloraxis": {
           "colorbar": {
            "outlinewidth": 0,
            "ticks": ""
           }
          },
          "colorscale": {
           "diverging": [
            [
             0,
             "#8e0152"
            ],
            [
             0.1,
             "#c51b7d"
            ],
            [
             0.2,
             "#de77ae"
            ],
            [
             0.3,
             "#f1b6da"
            ],
            [
             0.4,
             "#fde0ef"
            ],
            [
             0.5,
             "#f7f7f7"
            ],
            [
             0.6,
             "#e6f5d0"
            ],
            [
             0.7,
             "#b8e186"
            ],
            [
             0.8,
             "#7fbc41"
            ],
            [
             0.9,
             "#4d9221"
            ],
            [
             1,
             "#276419"
            ]
           ],
           "sequential": [
            [
             0,
             "#0d0887"
            ],
            [
             0.1111111111111111,
             "#46039f"
            ],
            [
             0.2222222222222222,
             "#7201a8"
            ],
            [
             0.3333333333333333,
             "#9c179e"
            ],
            [
             0.4444444444444444,
             "#bd3786"
            ],
            [
             0.5555555555555556,
             "#d8576b"
            ],
            [
             0.6666666666666666,
             "#ed7953"
            ],
            [
             0.7777777777777778,
             "#fb9f3a"
            ],
            [
             0.8888888888888888,
             "#fdca26"
            ],
            [
             1,
             "#f0f921"
            ]
           ],
           "sequentialminus": [
            [
             0,
             "#0d0887"
            ],
            [
             0.1111111111111111,
             "#46039f"
            ],
            [
             0.2222222222222222,
             "#7201a8"
            ],
            [
             0.3333333333333333,
             "#9c179e"
            ],
            [
             0.4444444444444444,
             "#bd3786"
            ],
            [
             0.5555555555555556,
             "#d8576b"
            ],
            [
             0.6666666666666666,
             "#ed7953"
            ],
            [
             0.7777777777777778,
             "#fb9f3a"
            ],
            [
             0.8888888888888888,
             "#fdca26"
            ],
            [
             1,
             "#f0f921"
            ]
           ]
          },
          "colorway": [
           "#636efa",
           "#EF553B",
           "#00cc96",
           "#ab63fa",
           "#FFA15A",
           "#19d3f3",
           "#FF6692",
           "#B6E880",
           "#FF97FF",
           "#FECB52"
          ],
          "font": {
           "color": "#2a3f5f"
          },
          "geo": {
           "bgcolor": "white",
           "lakecolor": "white",
           "landcolor": "#E5ECF6",
           "showlakes": true,
           "showland": true,
           "subunitcolor": "white"
          },
          "hoverlabel": {
           "align": "left"
          },
          "hovermode": "closest",
          "mapbox": {
           "style": "light"
          },
          "paper_bgcolor": "white",
          "plot_bgcolor": "#E5ECF6",
          "polar": {
           "angularaxis": {
            "gridcolor": "white",
            "linecolor": "white",
            "ticks": ""
           },
           "bgcolor": "#E5ECF6",
           "radialaxis": {
            "gridcolor": "white",
            "linecolor": "white",
            "ticks": ""
           }
          },
          "scene": {
           "xaxis": {
            "backgroundcolor": "#E5ECF6",
            "gridcolor": "white",
            "gridwidth": 2,
            "linecolor": "white",
            "showbackground": true,
            "ticks": "",
            "zerolinecolor": "white"
           },
           "yaxis": {
            "backgroundcolor": "#E5ECF6",
            "gridcolor": "white",
            "gridwidth": 2,
            "linecolor": "white",
            "showbackground": true,
            "ticks": "",
            "zerolinecolor": "white"
           },
           "zaxis": {
            "backgroundcolor": "#E5ECF6",
            "gridcolor": "white",
            "gridwidth": 2,
            "linecolor": "white",
            "showbackground": true,
            "ticks": "",
            "zerolinecolor": "white"
           }
          },
          "shapedefaults": {
           "line": {
            "color": "#2a3f5f"
           }
          },
          "ternary": {
           "aaxis": {
            "gridcolor": "white",
            "linecolor": "white",
            "ticks": ""
           },
           "baxis": {
            "gridcolor": "white",
            "linecolor": "white",
            "ticks": ""
           },
           "bgcolor": "#E5ECF6",
           "caxis": {
            "gridcolor": "white",
            "linecolor": "white",
            "ticks": ""
           }
          },
          "title": {
           "x": 0.05
          },
          "xaxis": {
           "automargin": true,
           "gridcolor": "white",
           "linecolor": "white",
           "ticks": "",
           "title": {
            "standoff": 15
           },
           "zerolinecolor": "white",
           "zerolinewidth": 2
          },
          "yaxis": {
           "automargin": true,
           "gridcolor": "white",
           "linecolor": "white",
           "ticks": "",
           "title": {
            "standoff": 15
           },
           "zerolinecolor": "white",
           "zerolinewidth": 2
          }
         }
        },
        "title": {
         "text": "Global vs Average subfamily entropy"
        },
        "xaxis": {
         "title": {
          "text": "Subfamily"
         }
        },
        "yaxis": {
         "title": {
          "text": "Shannon entropy"
         }
        }
       }
      },
      "text/html": [
       "<div>                            <div id=\"0d4992ec-d0fc-4115-be97-39245a19753a\" class=\"plotly-graph-div\" style=\"height:525px; width:100%;\"></div>            <script type=\"text/javascript\">                require([\"plotly\"], function(Plotly) {                    window.PLOTLYENV=window.PLOTLYENV || {};                                    if (document.getElementById(\"0d4992ec-d0fc-4115-be97-39245a19753a\")) {                    Plotly.newPlot(                        \"0d4992ec-d0fc-4115-be97-39245a19753a\",                        [{\"mode\":\"lines\",\"name\":\"Global entropy\",\"x\":[1,2,3,4,5,6,7,8,9,10,11,12,13,14,15,16,17,18,19,20,21,22,23,24,25,26,27,28,29,30,31,32,33,34,35,36,37,38,39,40,41,42,43,44,45,46,47,48,49,50,51,52,53,54,55,56,57,58,59,60,61,62,63,64,65,66,67,68,69,70,71,72,73,74,75,76,77,78,79,80,81,82,83,84,85,86,87,88,89,90,91,92,93,94,95,96,97,98,99,100,101,102,103,104,105,106,107,108,109,110,111,112,113,114,115,116,117,118,119,120,121,122,123,124,125,126,127,128,129,130,131,132,133,134,135,136,137,138,139,140,141,142,143,144,145,146,147,148,149,150,151,152,153,154,155,156,157,158,159,160,161,162,163,164,165,166,167,168,169,170,171,172,173,174,175,176,177,178,179,180,181,182,183,184,185,186,187,188,189,190,191,192,193,194,195,196,197,198,199,200,201,202,203,204,205,206,207,208,209,210,211,212,213,214,215,216,217,218,219,220,221,222,223,224,225,226,227,228,229,230,231,232,233,234,235,236,237,238,239,240,241,242,243,244,245,246,247,248,249,250,251,252,253,254,255,256,257,258,259,260,261,262,263,264,265,266,267,268,269,270,271,272,273,274,275,276,277,278,279,280,281,282,283,284,285,286,287,288,289,290,291,292,293,294,295],\"y\":[-6.04,-6.04,-6.18,-6.21,-6.13,-6.04,-6.29,-6.36,-6.09,-6.27,-6.18,-6.48,-5.11,-5.25,-5.29,-5.4,-5.57,-4.71,-5.38,-5.12,-5.58,-5.97,-5.53,-5.79,-5.69,-5.77,-6.69,-6.72,-4.69,-4.45,-5.02,-4.65,-4.79,-4.23,-4.7,-4.99,-4.74,-5.71,-5.68,-6.06,-5.66,-5.57,-5.59,-5.85,-5.55,-5.66,-5.45,-4.64,-4.87,-5.24,-4.14,-4.1,-4.69,-4.95,-4.73,-5.01,-4.18,-4.92,-4.82,-5.14,-5.26,-4.37,-4.88,-4.83,-4.36,-5.08,-5.14,-6.91,-6.92,-6.91,-4.75,-4.44,-5.19,-3.98,-4.01,-5.39,-5.34,-6.04,-6.04,-5.6,-4.25,-4.03,-4.33,-5.89,-6.07,-6.16,-6.14,-6.09,-4.92,-5.13,-4.96,-4.76,-6.39,-6.72,-6.04,-5.91,-4.62,-4.83,-4.65,-6.87,-3.89,-4.44,-4.02,-4.42,-5.77,-5.94,-5.53,-5.3,-6.48,-6.8,-6.47,-6.36,-6.32,-5.84,-5.51,-5.39,-5.76,-6.13,-6.89,-6.08,-5.44,-5.5,-5.53,-5.21,-5.89,-5.58,-4.76,-4.85,-5.36,-5.85,-5.99,-6.1,-5.92,-5.99,-5.87,-6.9,-5.96,-6.02,-6.4,-6.05,-6.84,-6.81,-6.88,-6.62,-6.17,-4.88,-4.86,-5.44,-5.64,-6.15,-6.93,-6.97,-6.97,-4.74,-5.09,-4.71,-4.57,-4.65,-4.26,-4.62,-4.8,-4.81,-5.35,-6.82,-6.19,-6.78,-6.85,-6.63,-6.46,-5.84,-5.71,-4.79,-6.56,-5.44,-6.02,-5.4,-5.77,-4.74,-4.96,-4.93,-4.75,-4.97,-4.68,-4.46,-4.18,-6.84,-6.86,-6.91,-4.5,-4.54,-4.47,-4.14,-3.94,-3.55,-4.08,-3.93,-4.1,-3.82,-3.7,-4.34,-3.9,-4.08,-4.07,-3.98,-3.77,-3.06,-3.7,-3.84,-3.97,-3.25,-3.55,-3.74,-3.76,-3.79,-3.88,-3.62,-3.44,-3.6,-4.1,-3.36,-3.83,-3.07,-3.36,-3.06,-3.25,-3.87,-3.78,-3.86,-4.03,-3.78,-3.49,-3.69,-3.59,-3.71,-3.86,-1.9,-2.52,-3.47,-2.58,-2.88,-3.14,-2.87,-2.75,-3.12,-3.32,-2.75,-2.09,-2.73,-3.34,-2.52,-2.22,-2.54,-3.07,-2.96,-3.19,-3.5,-2.49,-3.39,-2.56,-3.3,-2.56,-2.2,-2.71,-2.75,-3.0,0.0,-2.3,-0.07,-1.82,-0.59,-2.45,-0.72,-2.38,-1.8,-1.06,-1.81,-1.27,-1.18,-1.69,-1.44,-1.21,-1.39,-2.71,-1.52,-0.4,-0.98,-0.07,-1.14,-2.05,-1.97,0.0,-1.14,-1.99,-1.87,-0.48],\"type\":\"scatter\"},{\"mode\":\"lines\",\"name\":\"Average subfamily entropy\",\"x\":[1,2,3,4,5,6,7,8,9,10,11,12,13,14,15,16,17,18,19,20,21,22,23,24,25,26,27,28,29,30,31,32,33,34,35,36,37,38,39,40,41,42,43,44,45,46,47,48,49,50,51,52,53,54,55,56,57,58,59,60,61,62,63,64,65,66,67,68,69,70,71,72,73,74,75,76,77,78,79,80,81,82,83,84,85,86,87,88,89,90,91,92,93,94,95,96,97,98,99,100,101,102,103,104,105,106,107,108,109,110,111,112,113,114,115,116,117,118,119,120,121,122,123,124,125,126,127,128,129,130,131,132,133,134,135,136,137,138,139,140,141,142,143,144,145,146,147,148,149,150,151,152,153,154,155,156,157,158,159,160,161,162,163,164,165,166,167,168,169,170,171,172,173,174,175,176,177,178,179,180,181,182,183,184,185,186,187,188,189,190,191,192,193,194,195,196,197,198,199,200,201,202,203,204,205,206,207,208,209,210,211,212,213,214,215,216,217,218,219,220,221,222,223,224,225,226,227,228,229,230,231,232,233,234,235,236,237,238,239,240,241,242,243,244,245,246,247,248,249,250,251,252,253,254,255,256,257,258,259,260,261,262,263,264,265,266,267,268,269,270,271,272,273,274,275,276,277,278,279,280,281,282,283,284,285,286,287,288,289,290,291,292,293,294,295],\"y\":[0.54,0.54,0.55,0.55,0.56,0.54,0.56,0.58,0.54,0.56,0.56,0.59,0.4,0.41,0.44,0.43,0.49,0.39,0.45,0.45,0.44,0.48,0.45,0.47,0.45,0.47,0.61,0.62,0.34,0.32,0.36,0.3,0.35,0.3,0.3,0.32,0.32,0.43,0.45,0.52,0.47,0.44,0.45,0.48,0.44,0.43,0.42,0.39,0.37,0.41,0.24,0.24,0.32,0.39,0.44,0.44,0.33,0.41,0.42,0.43,0.48,0.41,0.47,0.44,0.43,0.5,0.47,0.66,0.66,0.66,0.44,0.4,0.48,0.38,0.39,0.51,0.48,0.56,0.56,0.5,0.37,0.31,0.36,0.51,0.53,0.53,0.52,0.52,0.41,0.43,0.39,0.41,0.57,0.62,0.53,0.48,0.41,0.45,0.4,0.66,0.38,0.42,0.4,0.41,0.61,0.6,0.59,0.55,0.63,0.66,0.64,0.6,0.6,0.57,0.62,0.58,0.6,0.62,0.66,0.63,0.58,0.6,0.57,0.59,0.59,0.59,0.55,0.56,0.58,0.62,0.6,0.62,0.61,0.61,0.61,0.66,0.61,0.6,0.64,0.6,0.66,0.66,0.66,0.64,0.62,0.56,0.56,0.56,0.6,0.63,0.67,0.67,0.67,0.54,0.55,0.54,0.52,0.54,0.47,0.49,0.49,0.53,0.59,0.66,0.6,0.65,0.66,0.64,0.63,0.58,0.54,0.51,0.63,0.56,0.6,0.55,0.58,0.5,0.51,0.52,0.53,0.56,0.43,0.47,0.49,0.65,0.65,0.66,0.51,0.5,0.47,0.5,0.46,0.4,0.46,0.47,0.48,0.44,0.41,0.48,0.44,0.43,0.46,0.49,0.42,0.36,0.38,0.39,0.39,0.35,0.33,0.35,0.4,0.33,0.36,0.32,0.36,0.35,0.44,0.33,0.38,0.33,0.33,0.28,0.36,0.41,0.41,0.4,0.39,0.41,0.39,0.36,0.36,0.37,0.39,0.2,0.18,0.32,0.24,0.22,0.26,0.33,0.25,0.26,0.25,0.28,0.23,0.26,0.29,0.21,0.21,0.17,0.19,0.21,0.32,0.26,0.22,0.25,0.28,0.27,0.27,0.23,0.25,0.2,0.2,0.0,0.18,0.01,0.13,0.05,0.18,0.05,0.14,0.15,0.09,0.12,0.12,0.12,0.14,0.11,0.08,0.07,0.23,0.08,0.04,0.08,0.01,0.11,0.13,0.15,0.0,0.08,0.15,0.14,0.02],\"type\":\"scatter\"}],                        {\"template\":{\"data\":{\"histogram2dcontour\":[{\"type\":\"histogram2dcontour\",\"colorbar\":{\"outlinewidth\":0,\"ticks\":\"\"},\"colorscale\":[[0.0,\"#0d0887\"],[0.1111111111111111,\"#46039f\"],[0.2222222222222222,\"#7201a8\"],[0.3333333333333333,\"#9c179e\"],[0.4444444444444444,\"#bd3786\"],[0.5555555555555556,\"#d8576b\"],[0.6666666666666666,\"#ed7953\"],[0.7777777777777778,\"#fb9f3a\"],[0.8888888888888888,\"#fdca26\"],[1.0,\"#f0f921\"]]}],\"choropleth\":[{\"type\":\"choropleth\",\"colorbar\":{\"outlinewidth\":0,\"ticks\":\"\"}}],\"histogram2d\":[{\"type\":\"histogram2d\",\"colorbar\":{\"outlinewidth\":0,\"ticks\":\"\"},\"colorscale\":[[0.0,\"#0d0887\"],[0.1111111111111111,\"#46039f\"],[0.2222222222222222,\"#7201a8\"],[0.3333333333333333,\"#9c179e\"],[0.4444444444444444,\"#bd3786\"],[0.5555555555555556,\"#d8576b\"],[0.6666666666666666,\"#ed7953\"],[0.7777777777777778,\"#fb9f3a\"],[0.8888888888888888,\"#fdca26\"],[1.0,\"#f0f921\"]]}],\"heatmap\":[{\"type\":\"heatmap\",\"colorbar\":{\"outlinewidth\":0,\"ticks\":\"\"},\"colorscale\":[[0.0,\"#0d0887\"],[0.1111111111111111,\"#46039f\"],[0.2222222222222222,\"#7201a8\"],[0.3333333333333333,\"#9c179e\"],[0.4444444444444444,\"#bd3786\"],[0.5555555555555556,\"#d8576b\"],[0.6666666666666666,\"#ed7953\"],[0.7777777777777778,\"#fb9f3a\"],[0.8888888888888888,\"#fdca26\"],[1.0,\"#f0f921\"]]}],\"heatmapgl\":[{\"type\":\"heatmapgl\",\"colorbar\":{\"outlinewidth\":0,\"ticks\":\"\"},\"colorscale\":[[0.0,\"#0d0887\"],[0.1111111111111111,\"#46039f\"],[0.2222222222222222,\"#7201a8\"],[0.3333333333333333,\"#9c179e\"],[0.4444444444444444,\"#bd3786\"],[0.5555555555555556,\"#d8576b\"],[0.6666666666666666,\"#ed7953\"],[0.7777777777777778,\"#fb9f3a\"],[0.8888888888888888,\"#fdca26\"],[1.0,\"#f0f921\"]]}],\"contourcarpet\":[{\"type\":\"contourcarpet\",\"colorbar\":{\"outlinewidth\":0,\"ticks\":\"\"}}],\"contour\":[{\"type\":\"contour\",\"colorbar\":{\"outlinewidth\":0,\"ticks\":\"\"},\"colorscale\":[[0.0,\"#0d0887\"],[0.1111111111111111,\"#46039f\"],[0.2222222222222222,\"#7201a8\"],[0.3333333333333333,\"#9c179e\"],[0.4444444444444444,\"#bd3786\"],[0.5555555555555556,\"#d8576b\"],[0.6666666666666666,\"#ed7953\"],[0.7777777777777778,\"#fb9f3a\"],[0.8888888888888888,\"#fdca26\"],[1.0,\"#f0f921\"]]}],\"surface\":[{\"type\":\"surface\",\"colorbar\":{\"outlinewidth\":0,\"ticks\":\"\"},\"colorscale\":[[0.0,\"#0d0887\"],[0.1111111111111111,\"#46039f\"],[0.2222222222222222,\"#7201a8\"],[0.3333333333333333,\"#9c179e\"],[0.4444444444444444,\"#bd3786\"],[0.5555555555555556,\"#d8576b\"],[0.6666666666666666,\"#ed7953\"],[0.7777777777777778,\"#fb9f3a\"],[0.8888888888888888,\"#fdca26\"],[1.0,\"#f0f921\"]]}],\"mesh3d\":[{\"type\":\"mesh3d\",\"colorbar\":{\"outlinewidth\":0,\"ticks\":\"\"}}],\"scatter\":[{\"fillpattern\":{\"fillmode\":\"overlay\",\"size\":10,\"solidity\":0.2},\"type\":\"scatter\"}],\"parcoords\":[{\"type\":\"parcoords\",\"line\":{\"colorbar\":{\"outlinewidth\":0,\"ticks\":\"\"}}}],\"scatterpolargl\":[{\"type\":\"scatterpolargl\",\"marker\":{\"colorbar\":{\"outlinewidth\":0,\"ticks\":\"\"}}}],\"bar\":[{\"error_x\":{\"color\":\"#2a3f5f\"},\"error_y\":{\"color\":\"#2a3f5f\"},\"marker\":{\"line\":{\"color\":\"#E5ECF6\",\"width\":0.5},\"pattern\":{\"fillmode\":\"overlay\",\"size\":10,\"solidity\":0.2}},\"type\":\"bar\"}],\"scattergeo\":[{\"type\":\"scattergeo\",\"marker\":{\"colorbar\":{\"outlinewidth\":0,\"ticks\":\"\"}}}],\"scatterpolar\":[{\"type\":\"scatterpolar\",\"marker\":{\"colorbar\":{\"outlinewidth\":0,\"ticks\":\"\"}}}],\"histogram\":[{\"marker\":{\"pattern\":{\"fillmode\":\"overlay\",\"size\":10,\"solidity\":0.2}},\"type\":\"histogram\"}],\"scattergl\":[{\"type\":\"scattergl\",\"marker\":{\"colorbar\":{\"outlinewidth\":0,\"ticks\":\"\"}}}],\"scatter3d\":[{\"type\":\"scatter3d\",\"line\":{\"colorbar\":{\"outlinewidth\":0,\"ticks\":\"\"}},\"marker\":{\"colorbar\":{\"outlinewidth\":0,\"ticks\":\"\"}}}],\"scattermapbox\":[{\"type\":\"scattermapbox\",\"marker\":{\"colorbar\":{\"outlinewidth\":0,\"ticks\":\"\"}}}],\"scatterternary\":[{\"type\":\"scatterternary\",\"marker\":{\"colorbar\":{\"outlinewidth\":0,\"ticks\":\"\"}}}],\"scattercarpet\":[{\"type\":\"scattercarpet\",\"marker\":{\"colorbar\":{\"outlinewidth\":0,\"ticks\":\"\"}}}],\"carpet\":[{\"aaxis\":{\"endlinecolor\":\"#2a3f5f\",\"gridcolor\":\"white\",\"linecolor\":\"white\",\"minorgridcolor\":\"white\",\"startlinecolor\":\"#2a3f5f\"},\"baxis\":{\"endlinecolor\":\"#2a3f5f\",\"gridcolor\":\"white\",\"linecolor\":\"white\",\"minorgridcolor\":\"white\",\"startlinecolor\":\"#2a3f5f\"},\"type\":\"carpet\"}],\"table\":[{\"cells\":{\"fill\":{\"color\":\"#EBF0F8\"},\"line\":{\"color\":\"white\"}},\"header\":{\"fill\":{\"color\":\"#C8D4E3\"},\"line\":{\"color\":\"white\"}},\"type\":\"table\"}],\"barpolar\":[{\"marker\":{\"line\":{\"color\":\"#E5ECF6\",\"width\":0.5},\"pattern\":{\"fillmode\":\"overlay\",\"size\":10,\"solidity\":0.2}},\"type\":\"barpolar\"}],\"pie\":[{\"automargin\":true,\"type\":\"pie\"}]},\"layout\":{\"autotypenumbers\":\"strict\",\"colorway\":[\"#636efa\",\"#EF553B\",\"#00cc96\",\"#ab63fa\",\"#FFA15A\",\"#19d3f3\",\"#FF6692\",\"#B6E880\",\"#FF97FF\",\"#FECB52\"],\"font\":{\"color\":\"#2a3f5f\"},\"hovermode\":\"closest\",\"hoverlabel\":{\"align\":\"left\"},\"paper_bgcolor\":\"white\",\"plot_bgcolor\":\"#E5ECF6\",\"polar\":{\"bgcolor\":\"#E5ECF6\",\"angularaxis\":{\"gridcolor\":\"white\",\"linecolor\":\"white\",\"ticks\":\"\"},\"radialaxis\":{\"gridcolor\":\"white\",\"linecolor\":\"white\",\"ticks\":\"\"}},\"ternary\":{\"bgcolor\":\"#E5ECF6\",\"aaxis\":{\"gridcolor\":\"white\",\"linecolor\":\"white\",\"ticks\":\"\"},\"baxis\":{\"gridcolor\":\"white\",\"linecolor\":\"white\",\"ticks\":\"\"},\"caxis\":{\"gridcolor\":\"white\",\"linecolor\":\"white\",\"ticks\":\"\"}},\"coloraxis\":{\"colorbar\":{\"outlinewidth\":0,\"ticks\":\"\"}},\"colorscale\":{\"sequential\":[[0.0,\"#0d0887\"],[0.1111111111111111,\"#46039f\"],[0.2222222222222222,\"#7201a8\"],[0.3333333333333333,\"#9c179e\"],[0.4444444444444444,\"#bd3786\"],[0.5555555555555556,\"#d8576b\"],[0.6666666666666666,\"#ed7953\"],[0.7777777777777778,\"#fb9f3a\"],[0.8888888888888888,\"#fdca26\"],[1.0,\"#f0f921\"]],\"sequentialminus\":[[0.0,\"#0d0887\"],[0.1111111111111111,\"#46039f\"],[0.2222222222222222,\"#7201a8\"],[0.3333333333333333,\"#9c179e\"],[0.4444444444444444,\"#bd3786\"],[0.5555555555555556,\"#d8576b\"],[0.6666666666666666,\"#ed7953\"],[0.7777777777777778,\"#fb9f3a\"],[0.8888888888888888,\"#fdca26\"],[1.0,\"#f0f921\"]],\"diverging\":[[0,\"#8e0152\"],[0.1,\"#c51b7d\"],[0.2,\"#de77ae\"],[0.3,\"#f1b6da\"],[0.4,\"#fde0ef\"],[0.5,\"#f7f7f7\"],[0.6,\"#e6f5d0\"],[0.7,\"#b8e186\"],[0.8,\"#7fbc41\"],[0.9,\"#4d9221\"],[1,\"#276419\"]]},\"xaxis\":{\"gridcolor\":\"white\",\"linecolor\":\"white\",\"ticks\":\"\",\"title\":{\"standoff\":15},\"zerolinecolor\":\"white\",\"automargin\":true,\"zerolinewidth\":2},\"yaxis\":{\"gridcolor\":\"white\",\"linecolor\":\"white\",\"ticks\":\"\",\"title\":{\"standoff\":15},\"zerolinecolor\":\"white\",\"automargin\":true,\"zerolinewidth\":2},\"scene\":{\"xaxis\":{\"backgroundcolor\":\"#E5ECF6\",\"gridcolor\":\"white\",\"linecolor\":\"white\",\"showbackground\":true,\"ticks\":\"\",\"zerolinecolor\":\"white\",\"gridwidth\":2},\"yaxis\":{\"backgroundcolor\":\"#E5ECF6\",\"gridcolor\":\"white\",\"linecolor\":\"white\",\"showbackground\":true,\"ticks\":\"\",\"zerolinecolor\":\"white\",\"gridwidth\":2},\"zaxis\":{\"backgroundcolor\":\"#E5ECF6\",\"gridcolor\":\"white\",\"linecolor\":\"white\",\"showbackground\":true,\"ticks\":\"\",\"zerolinecolor\":\"white\",\"gridwidth\":2}},\"shapedefaults\":{\"line\":{\"color\":\"#2a3f5f\"}},\"annotationdefaults\":{\"arrowcolor\":\"#2a3f5f\",\"arrowhead\":0,\"arrowwidth\":1},\"geo\":{\"bgcolor\":\"white\",\"landcolor\":\"#E5ECF6\",\"subunitcolor\":\"white\",\"showland\":true,\"showlakes\":true,\"lakecolor\":\"white\"},\"title\":{\"x\":0.05},\"mapbox\":{\"style\":\"light\"}}},\"title\":{\"text\":\"Global vs Average subfamily entropy\"},\"xaxis\":{\"title\":{\"text\":\"Subfamily\"}},\"yaxis\":{\"title\":{\"text\":\"Shannon entropy\"}}},                        {\"responsive\": true}                    ).then(function(){\n",
       "                            \n",
       "var gd = document.getElementById('0d4992ec-d0fc-4115-be97-39245a19753a');\n",
       "var x = new MutationObserver(function (mutations, observer) {{\n",
       "        var display = window.getComputedStyle(gd).display;\n",
       "        if (!display || display === 'none') {{\n",
       "            console.log([gd, 'removed!']);\n",
       "            Plotly.purge(gd);\n",
       "            observer.disconnect();\n",
       "        }}\n",
       "}});\n",
       "\n",
       "// Listen for the removal of the full notebook cells\n",
       "var notebookContainer = gd.closest('#notebook-container');\n",
       "if (notebookContainer) {{\n",
       "    x.observe(notebookContainer, {childList: true});\n",
       "}}\n",
       "\n",
       "// Listen for the clearing of the current output cell\n",
       "var outputEl = gd.closest('.output');\n",
       "if (outputEl) {{\n",
       "    x.observe(outputEl, {childList: true});\n",
       "}}\n",
       "\n",
       "                        })                };                });            </script>        </div>"
      ]
     },
     "metadata": {},
     "output_type": "display_data"
    }
   ],
   "source": [
    "# Plot global vs average subfamily entropy\n",
    "\n",
    "fig = go.Figure()\n",
    "fig.add_trace(go.Scatter(x=list(range(1, len(global_entropy) + 1)), y=global_entropy, mode='lines', name='Global entropy'))\n",
    "fig.add_trace(go.Scatter(x=list(range(1, len(average_subfam) + 1)), y=average_subfam, mode='lines', name='Average subfamily entropy'))\n",
    "fig.update_layout(title='Global vs Average subfamily entropy', xaxis_title='Subfamily', yaxis_title='Shannon entropy')\n",
    "fig.show()"
   ]
  },
  {
   "cell_type": "code",
   "execution_count": 41,
   "metadata": {},
   "outputs": [
    {
     "data": {
      "application/vnd.plotly.v1+json": {
       "config": {
        "plotlyServerURL": "https://plot.ly"
       },
       "data": [
        {
         "hovertemplate": "<b>%{hovertext}</b><br><br>x=%{x}<br>y=%{y}<extra></extra>",
         "hovertext": [
          "0K",
          "1C",
          "2Y",
          "3I",
          "4S",
          "5V",
          "6H",
          "7I",
          "8E",
          "9C",
          "10F",
          "11E",
          "12V",
          "13P",
          "14L",
          "15A",
          "16C",
          "17Q",
          "18H",
          "19Y",
          "20G",
          "21V",
          "22I",
          "23C",
          "24N",
          "25M",
          "26P",
          "27V",
          "28P",
          "29M",
          "30M",
          "31D",
          "32R",
          "33R",
          "34D",
          "35C",
          "36Q",
          "50K",
          "51G",
          "52Q",
          "53A",
          "54V",
          "55I",
          "56I",
          "57W",
          "58I",
          "60E",
          "61E",
          "62H",
          "63K",
          "64E",
          "65D",
          "70M",
          "71R",
          "72S",
          "73D",
          "74K",
          "78Q",
          "79V",
          "80L",
          "81C",
          "82T",
          "98W",
          "100E",
          "101R",
          "102G",
          "103N",
          "114L",
          "115I",
          "116Q",
          "117I",
          "119L",
          "120G",
          "121Q",
          "122F",
          "126A",
          "145W",
          "146T",
          "147Q",
          "148W",
          "153Q",
          "154H",
          "155S",
          "156H",
          "157R",
          "158Q",
          "159F",
          "160E",
          "161G",
          "162F",
          "171D",
          "177K",
          "178F",
          "179P",
          "180N",
          "184L",
          "191T",
          "192N",
          "193F",
          "194T",
          "195C",
          "196C",
          "197L",
          "198Y",
          "199Q",
          "200H",
          "201A",
          "202C",
          "203K",
          "204F",
          "205E",
          "206P",
          "207G",
          "208A",
          "209R",
          "210D",
          "211S",
          "212R",
          "213M",
          "214M",
          "215W",
          "216L",
          "217C",
          "218I",
          "219A",
          "220F",
          "221L",
          "222M",
          "223A",
          "224F",
          "225G",
          "226M",
          "227E",
          "228N",
          "229D",
          "230Q",
          "231K",
          "232F",
          "233H",
          "234E",
          "235C",
          "236Y",
          "237S",
          "238A",
          "239S",
          "240L",
          "241R",
          "242P",
          "243K",
          "244V",
          "245D",
          "246W",
          "247S",
          "248I",
          "249P",
          "250S",
          "251H",
          "252P",
          "253S",
          "254R",
          "255T",
          "256A",
          "257F",
          "258L",
          "259D",
          "260G",
          "261S",
          "262G",
          "263A",
          "264N",
          "265N",
          "266Y",
          "267V",
          "268A",
          "269K",
          "270S",
          "271F",
          "272H",
          "273I",
          "274F",
          "275K",
          "276A",
          "277W",
          "278P",
          "279W",
          "280S",
          "281F",
          "282Y",
          "283M",
          "284I",
          "285T",
          "286D",
          "287H",
          "288A",
          "289A",
          "290M",
          "291N",
          "292H",
          "293A",
          "294M",
          "200-",
          "201-",
          "202-",
          "203-",
          "204-",
          "205-",
          "206-",
          "207-",
          "208-",
          "209-",
          "210-",
          "211-",
          "212-",
          "213-",
          "214-",
          "215-",
          "216-",
          "217-",
          "218-",
          "219-",
          "220-",
          "221-",
          "222-",
          "223-",
          "224-",
          "225-",
          "226-",
          "227-",
          "228-",
          "229-",
          "230-",
          "231-",
          "232-",
          "233-",
          "234-",
          "235-",
          "236-",
          "237-",
          "238-",
          "239-",
          "240-",
          "241-",
          "242-",
          "243-",
          "244-",
          "245-",
          "246-",
          "247-",
          "248-",
          "249-",
          "250-",
          "251-",
          "252-",
          "253-",
          "254-",
          "255-",
          "256-",
          "257-",
          "258-",
          "259-",
          "260-",
          "261-",
          "262-",
          "263-",
          "264-",
          "265-",
          "266-",
          "267-",
          "268-",
          "269-",
          "270-",
          "271-",
          "272-",
          "273-",
          "274-",
          "275-",
          "276-",
          "277-",
          "278-",
          "279-",
          "280-",
          "281-",
          "282-",
          "283-",
          "284-",
          "285-",
          "286-",
          "287-",
          "288-",
          "289-",
          "290-",
          "291-",
          "292-",
          "293-",
          "294-"
         ],
         "legendgroup": "",
         "marker": {
          "color": "#636efa",
          "symbol": "circle"
         },
         "mode": "markers",
         "name": "",
         "orientation": "v",
         "showlegend": false,
         "type": "scatter",
         "x": [
          0.54,
          0.54,
          0.55,
          0.55,
          0.56,
          0.54,
          0.56,
          0.58,
          0.54,
          0.56,
          0.56,
          0.59,
          0.4,
          0.41,
          0.44,
          0.43,
          0.49,
          0.39,
          0.45,
          0.45,
          0.44,
          0.48,
          0.45,
          0.47,
          0.45,
          0.47,
          0.61,
          0.62,
          0.34,
          0.32,
          0.36,
          0.3,
          0.35,
          0.3,
          0.3,
          0.32,
          0.32,
          0.43,
          0.45,
          0.52,
          0.47,
          0.44,
          0.45,
          0.48,
          0.44,
          0.43,
          0.42,
          0.39,
          0.37,
          0.41,
          0.24,
          0.24,
          0.32,
          0.39,
          0.44,
          0.44,
          0.33,
          0.41,
          0.42,
          0.43,
          0.48,
          0.41,
          0.47,
          0.44,
          0.43,
          0.5,
          0.47,
          0.66,
          0.66,
          0.66,
          0.44,
          0.4,
          0.48,
          0.38,
          0.39,
          0.51,
          0.48,
          0.56,
          0.56,
          0.5,
          0.37,
          0.31,
          0.36,
          0.51,
          0.53,
          0.53,
          0.52,
          0.52,
          0.41,
          0.43,
          0.39,
          0.41,
          0.57,
          0.62,
          0.53,
          0.48,
          0.41,
          0.45,
          0.4,
          0.66,
          0.38,
          0.42,
          0.4,
          0.41,
          0.61,
          0.6,
          0.59,
          0.55,
          0.63,
          0.66,
          0.64,
          0.6,
          0.6,
          0.57,
          0.62,
          0.58,
          0.6,
          0.62,
          0.66,
          0.63,
          0.58,
          0.6,
          0.57,
          0.59,
          0.59,
          0.59,
          0.55,
          0.56,
          0.58,
          0.62,
          0.6,
          0.62,
          0.61,
          0.61,
          0.61,
          0.66,
          0.61,
          0.6,
          0.64,
          0.6,
          0.66,
          0.66,
          0.66,
          0.64,
          0.62,
          0.56,
          0.56,
          0.56,
          0.6,
          0.63,
          0.67,
          0.67,
          0.67,
          0.54,
          0.55,
          0.54,
          0.52,
          0.54,
          0.47,
          0.49,
          0.49,
          0.53,
          0.59,
          0.66,
          0.6,
          0.65,
          0.66,
          0.64,
          0.63,
          0.58,
          0.54,
          0.51,
          0.63,
          0.56,
          0.6,
          0.55,
          0.58,
          0.5,
          0.51,
          0.52,
          0.53,
          0.56,
          0.43,
          0.47,
          0.49,
          0.65,
          0.65,
          0.66,
          0.51,
          0.5,
          0.47,
          0.5,
          0.46,
          0.4,
          0.46,
          0.47,
          0.48,
          0.44,
          0.41,
          0.48,
          0.44,
          0.43,
          0.46,
          0.49,
          0.42,
          0.36,
          0.38,
          0.39,
          0.39,
          0.35,
          0.33,
          0.35,
          0.4,
          0.33,
          0.36,
          0.32,
          0.36,
          0.35,
          0.44,
          0.33,
          0.38,
          0.33,
          0.33,
          0.28,
          0.36,
          0.41,
          0.41,
          0.4,
          0.39,
          0.41,
          0.39,
          0.36,
          0.36,
          0.37,
          0.39,
          0.2,
          0.18,
          0.32,
          0.24,
          0.22,
          0.26,
          0.33,
          0.25,
          0.26,
          0.25,
          0.28,
          0.23,
          0.26,
          0.29,
          0.21,
          0.21,
          0.17,
          0.19,
          0.21,
          0.32,
          0.26,
          0.22,
          0.25,
          0.28,
          0.27,
          0.27,
          0.23,
          0.25,
          0.2,
          0.2,
          0,
          0.18,
          0.01,
          0.13,
          0.05,
          0.18,
          0.05,
          0.14,
          0.15,
          0.09,
          0.12,
          0.12,
          0.12,
          0.14,
          0.11,
          0.08,
          0.07,
          0.23,
          0.08,
          0.04,
          0.08,
          0.01,
          0.11,
          0.13,
          0.15,
          0,
          0.08,
          0.15,
          0.14,
          0.02
         ],
         "xaxis": "x",
         "y": [
          -6.04,
          -6.04,
          -6.18,
          -6.21,
          -6.13,
          -6.04,
          -6.29,
          -6.36,
          -6.09,
          -6.27,
          -6.18,
          -6.48,
          -5.11,
          -5.25,
          -5.29,
          -5.4,
          -5.57,
          -4.71,
          -5.38,
          -5.12,
          -5.58,
          -5.97,
          -5.53,
          -5.79,
          -5.69,
          -5.77,
          -6.69,
          -6.72,
          -4.69,
          -4.45,
          -5.02,
          -4.65,
          -4.79,
          -4.23,
          -4.7,
          -4.99,
          -4.74,
          -5.71,
          -5.68,
          -6.06,
          -5.66,
          -5.57,
          -5.59,
          -5.85,
          -5.55,
          -5.66,
          -5.45,
          -4.64,
          -4.87,
          -5.24,
          -4.14,
          -4.1,
          -4.69,
          -4.95,
          -4.73,
          -5.01,
          -4.18,
          -4.92,
          -4.82,
          -5.14,
          -5.26,
          -4.37,
          -4.88,
          -4.83,
          -4.36,
          -5.08,
          -5.14,
          -6.91,
          -6.92,
          -6.91,
          -4.75,
          -4.44,
          -5.19,
          -3.98,
          -4.01,
          -5.39,
          -5.34,
          -6.04,
          -6.04,
          -5.6,
          -4.25,
          -4.03,
          -4.33,
          -5.89,
          -6.07,
          -6.16,
          -6.14,
          -6.09,
          -4.92,
          -5.13,
          -4.96,
          -4.76,
          -6.39,
          -6.72,
          -6.04,
          -5.91,
          -4.62,
          -4.83,
          -4.65,
          -6.87,
          -3.89,
          -4.44,
          -4.02,
          -4.42,
          -5.77,
          -5.94,
          -5.53,
          -5.3,
          -6.48,
          -6.8,
          -6.47,
          -6.36,
          -6.32,
          -5.84,
          -5.51,
          -5.39,
          -5.76,
          -6.13,
          -6.89,
          -6.08,
          -5.44,
          -5.5,
          -5.53,
          -5.21,
          -5.89,
          -5.58,
          -4.76,
          -4.85,
          -5.36,
          -5.85,
          -5.99,
          -6.1,
          -5.92,
          -5.99,
          -5.87,
          -6.9,
          -5.96,
          -6.02,
          -6.4,
          -6.05,
          -6.84,
          -6.81,
          -6.88,
          -6.62,
          -6.17,
          -4.88,
          -4.86,
          -5.44,
          -5.64,
          -6.15,
          -6.93,
          -6.97,
          -6.97,
          -4.74,
          -5.09,
          -4.71,
          -4.57,
          -4.65,
          -4.26,
          -4.62,
          -4.8,
          -4.81,
          -5.35,
          -6.82,
          -6.19,
          -6.78,
          -6.85,
          -6.63,
          -6.46,
          -5.84,
          -5.71,
          -4.79,
          -6.56,
          -5.44,
          -6.02,
          -5.4,
          -5.77,
          -4.74,
          -4.96,
          -4.93,
          -4.75,
          -4.97,
          -4.68,
          -4.46,
          -4.18,
          -6.84,
          -6.86,
          -6.91,
          -4.5,
          -4.54,
          -4.47,
          -4.14,
          -3.94,
          -3.55,
          -4.08,
          -3.93,
          -4.1,
          -3.82,
          -3.7,
          -4.34,
          -3.9,
          -4.08,
          -4.07,
          -3.98,
          -3.77,
          -3.06,
          -3.7,
          -3.84,
          -3.97,
          -3.25,
          -3.55,
          -3.74,
          -3.76,
          -3.79,
          -3.88,
          -3.62,
          -3.44,
          -3.6,
          -4.1,
          -3.36,
          -3.83,
          -3.07,
          -3.36,
          -3.06,
          -3.25,
          -3.87,
          -3.78,
          -3.86,
          -4.03,
          -3.78,
          -3.49,
          -3.69,
          -3.59,
          -3.71,
          -3.86,
          -1.9,
          -2.52,
          -3.47,
          -2.58,
          -2.88,
          -3.14,
          -2.87,
          -2.75,
          -3.12,
          -3.32,
          -2.75,
          -2.09,
          -2.73,
          -3.34,
          -2.52,
          -2.22,
          -2.54,
          -3.07,
          -2.96,
          -3.19,
          -3.5,
          -2.49,
          -3.39,
          -2.56,
          -3.3,
          -2.56,
          -2.2,
          -2.71,
          -2.75,
          -3,
          0,
          -2.3,
          -0.07,
          -1.82,
          -0.59,
          -2.45,
          -0.72,
          -2.38,
          -1.8,
          -1.06,
          -1.81,
          -1.27,
          -1.18,
          -1.69,
          -1.44,
          -1.21,
          -1.39,
          -2.71,
          -1.52,
          -0.4,
          -0.98,
          -0.07,
          -1.14,
          -2.05,
          -1.97,
          0,
          -1.14,
          -1.99,
          -1.87,
          -0.48
         ],
         "yaxis": "y"
        }
       ],
       "layout": {
        "height": 400,
        "legend": {
         "tracegroupgap": 0
        },
        "margin": {
         "t": 60
        },
        "template": {
         "data": {
          "bar": [
           {
            "error_x": {
             "color": "#2a3f5f"
            },
            "error_y": {
             "color": "#2a3f5f"
            },
            "marker": {
             "line": {
              "color": "#E5ECF6",
              "width": 0.5
             },
             "pattern": {
              "fillmode": "overlay",
              "size": 10,
              "solidity": 0.2
             }
            },
            "type": "bar"
           }
          ],
          "barpolar": [
           {
            "marker": {
             "line": {
              "color": "#E5ECF6",
              "width": 0.5
             },
             "pattern": {
              "fillmode": "overlay",
              "size": 10,
              "solidity": 0.2
             }
            },
            "type": "barpolar"
           }
          ],
          "carpet": [
           {
            "aaxis": {
             "endlinecolor": "#2a3f5f",
             "gridcolor": "white",
             "linecolor": "white",
             "minorgridcolor": "white",
             "startlinecolor": "#2a3f5f"
            },
            "baxis": {
             "endlinecolor": "#2a3f5f",
             "gridcolor": "white",
             "linecolor": "white",
             "minorgridcolor": "white",
             "startlinecolor": "#2a3f5f"
            },
            "type": "carpet"
           }
          ],
          "choropleth": [
           {
            "colorbar": {
             "outlinewidth": 0,
             "ticks": ""
            },
            "type": "choropleth"
           }
          ],
          "contour": [
           {
            "colorbar": {
             "outlinewidth": 0,
             "ticks": ""
            },
            "colorscale": [
             [
              0,
              "#0d0887"
             ],
             [
              0.1111111111111111,
              "#46039f"
             ],
             [
              0.2222222222222222,
              "#7201a8"
             ],
             [
              0.3333333333333333,
              "#9c179e"
             ],
             [
              0.4444444444444444,
              "#bd3786"
             ],
             [
              0.5555555555555556,
              "#d8576b"
             ],
             [
              0.6666666666666666,
              "#ed7953"
             ],
             [
              0.7777777777777778,
              "#fb9f3a"
             ],
             [
              0.8888888888888888,
              "#fdca26"
             ],
             [
              1,
              "#f0f921"
             ]
            ],
            "type": "contour"
           }
          ],
          "contourcarpet": [
           {
            "colorbar": {
             "outlinewidth": 0,
             "ticks": ""
            },
            "type": "contourcarpet"
           }
          ],
          "heatmap": [
           {
            "colorbar": {
             "outlinewidth": 0,
             "ticks": ""
            },
            "colorscale": [
             [
              0,
              "#0d0887"
             ],
             [
              0.1111111111111111,
              "#46039f"
             ],
             [
              0.2222222222222222,
              "#7201a8"
             ],
             [
              0.3333333333333333,
              "#9c179e"
             ],
             [
              0.4444444444444444,
              "#bd3786"
             ],
             [
              0.5555555555555556,
              "#d8576b"
             ],
             [
              0.6666666666666666,
              "#ed7953"
             ],
             [
              0.7777777777777778,
              "#fb9f3a"
             ],
             [
              0.8888888888888888,
              "#fdca26"
             ],
             [
              1,
              "#f0f921"
             ]
            ],
            "type": "heatmap"
           }
          ],
          "heatmapgl": [
           {
            "colorbar": {
             "outlinewidth": 0,
             "ticks": ""
            },
            "colorscale": [
             [
              0,
              "#0d0887"
             ],
             [
              0.1111111111111111,
              "#46039f"
             ],
             [
              0.2222222222222222,
              "#7201a8"
             ],
             [
              0.3333333333333333,
              "#9c179e"
             ],
             [
              0.4444444444444444,
              "#bd3786"
             ],
             [
              0.5555555555555556,
              "#d8576b"
             ],
             [
              0.6666666666666666,
              "#ed7953"
             ],
             [
              0.7777777777777778,
              "#fb9f3a"
             ],
             [
              0.8888888888888888,
              "#fdca26"
             ],
             [
              1,
              "#f0f921"
             ]
            ],
            "type": "heatmapgl"
           }
          ],
          "histogram": [
           {
            "marker": {
             "pattern": {
              "fillmode": "overlay",
              "size": 10,
              "solidity": 0.2
             }
            },
            "type": "histogram"
           }
          ],
          "histogram2d": [
           {
            "colorbar": {
             "outlinewidth": 0,
             "ticks": ""
            },
            "colorscale": [
             [
              0,
              "#0d0887"
             ],
             [
              0.1111111111111111,
              "#46039f"
             ],
             [
              0.2222222222222222,
              "#7201a8"
             ],
             [
              0.3333333333333333,
              "#9c179e"
             ],
             [
              0.4444444444444444,
              "#bd3786"
             ],
             [
              0.5555555555555556,
              "#d8576b"
             ],
             [
              0.6666666666666666,
              "#ed7953"
             ],
             [
              0.7777777777777778,
              "#fb9f3a"
             ],
             [
              0.8888888888888888,
              "#fdca26"
             ],
             [
              1,
              "#f0f921"
             ]
            ],
            "type": "histogram2d"
           }
          ],
          "histogram2dcontour": [
           {
            "colorbar": {
             "outlinewidth": 0,
             "ticks": ""
            },
            "colorscale": [
             [
              0,
              "#0d0887"
             ],
             [
              0.1111111111111111,
              "#46039f"
             ],
             [
              0.2222222222222222,
              "#7201a8"
             ],
             [
              0.3333333333333333,
              "#9c179e"
             ],
             [
              0.4444444444444444,
              "#bd3786"
             ],
             [
              0.5555555555555556,
              "#d8576b"
             ],
             [
              0.6666666666666666,
              "#ed7953"
             ],
             [
              0.7777777777777778,
              "#fb9f3a"
             ],
             [
              0.8888888888888888,
              "#fdca26"
             ],
             [
              1,
              "#f0f921"
             ]
            ],
            "type": "histogram2dcontour"
           }
          ],
          "mesh3d": [
           {
            "colorbar": {
             "outlinewidth": 0,
             "ticks": ""
            },
            "type": "mesh3d"
           }
          ],
          "parcoords": [
           {
            "line": {
             "colorbar": {
              "outlinewidth": 0,
              "ticks": ""
             }
            },
            "type": "parcoords"
           }
          ],
          "pie": [
           {
            "automargin": true,
            "type": "pie"
           }
          ],
          "scatter": [
           {
            "fillpattern": {
             "fillmode": "overlay",
             "size": 10,
             "solidity": 0.2
            },
            "type": "scatter"
           }
          ],
          "scatter3d": [
           {
            "line": {
             "colorbar": {
              "outlinewidth": 0,
              "ticks": ""
             }
            },
            "marker": {
             "colorbar": {
              "outlinewidth": 0,
              "ticks": ""
             }
            },
            "type": "scatter3d"
           }
          ],
          "scattercarpet": [
           {
            "marker": {
             "colorbar": {
              "outlinewidth": 0,
              "ticks": ""
             }
            },
            "type": "scattercarpet"
           }
          ],
          "scattergeo": [
           {
            "marker": {
             "colorbar": {
              "outlinewidth": 0,
              "ticks": ""
             }
            },
            "type": "scattergeo"
           }
          ],
          "scattergl": [
           {
            "marker": {
             "colorbar": {
              "outlinewidth": 0,
              "ticks": ""
             }
            },
            "type": "scattergl"
           }
          ],
          "scattermapbox": [
           {
            "marker": {
             "colorbar": {
              "outlinewidth": 0,
              "ticks": ""
             }
            },
            "type": "scattermapbox"
           }
          ],
          "scatterpolar": [
           {
            "marker": {
             "colorbar": {
              "outlinewidth": 0,
              "ticks": ""
             }
            },
            "type": "scatterpolar"
           }
          ],
          "scatterpolargl": [
           {
            "marker": {
             "colorbar": {
              "outlinewidth": 0,
              "ticks": ""
             }
            },
            "type": "scatterpolargl"
           }
          ],
          "scatterternary": [
           {
            "marker": {
             "colorbar": {
              "outlinewidth": 0,
              "ticks": ""
             }
            },
            "type": "scatterternary"
           }
          ],
          "surface": [
           {
            "colorbar": {
             "outlinewidth": 0,
             "ticks": ""
            },
            "colorscale": [
             [
              0,
              "#0d0887"
             ],
             [
              0.1111111111111111,
              "#46039f"
             ],
             [
              0.2222222222222222,
              "#7201a8"
             ],
             [
              0.3333333333333333,
              "#9c179e"
             ],
             [
              0.4444444444444444,
              "#bd3786"
             ],
             [
              0.5555555555555556,
              "#d8576b"
             ],
             [
              0.6666666666666666,
              "#ed7953"
             ],
             [
              0.7777777777777778,
              "#fb9f3a"
             ],
             [
              0.8888888888888888,
              "#fdca26"
             ],
             [
              1,
              "#f0f921"
             ]
            ],
            "type": "surface"
           }
          ],
          "table": [
           {
            "cells": {
             "fill": {
              "color": "#EBF0F8"
             },
             "line": {
              "color": "white"
             }
            },
            "header": {
             "fill": {
              "color": "#C8D4E3"
             },
             "line": {
              "color": "white"
             }
            },
            "type": "table"
           }
          ]
         },
         "layout": {
          "annotationdefaults": {
           "arrowcolor": "#2a3f5f",
           "arrowhead": 0,
           "arrowwidth": 1
          },
          "autotypenumbers": "strict",
          "coloraxis": {
           "colorbar": {
            "outlinewidth": 0,
            "ticks": ""
           }
          },
          "colorscale": {
           "diverging": [
            [
             0,
             "#8e0152"
            ],
            [
             0.1,
             "#c51b7d"
            ],
            [
             0.2,
             "#de77ae"
            ],
            [
             0.3,
             "#f1b6da"
            ],
            [
             0.4,
             "#fde0ef"
            ],
            [
             0.5,
             "#f7f7f7"
            ],
            [
             0.6,
             "#e6f5d0"
            ],
            [
             0.7,
             "#b8e186"
            ],
            [
             0.8,
             "#7fbc41"
            ],
            [
             0.9,
             "#4d9221"
            ],
            [
             1,
             "#276419"
            ]
           ],
           "sequential": [
            [
             0,
             "#0d0887"
            ],
            [
             0.1111111111111111,
             "#46039f"
            ],
            [
             0.2222222222222222,
             "#7201a8"
            ],
            [
             0.3333333333333333,
             "#9c179e"
            ],
            [
             0.4444444444444444,
             "#bd3786"
            ],
            [
             0.5555555555555556,
             "#d8576b"
            ],
            [
             0.6666666666666666,
             "#ed7953"
            ],
            [
             0.7777777777777778,
             "#fb9f3a"
            ],
            [
             0.8888888888888888,
             "#fdca26"
            ],
            [
             1,
             "#f0f921"
            ]
           ],
           "sequentialminus": [
            [
             0,
             "#0d0887"
            ],
            [
             0.1111111111111111,
             "#46039f"
            ],
            [
             0.2222222222222222,
             "#7201a8"
            ],
            [
             0.3333333333333333,
             "#9c179e"
            ],
            [
             0.4444444444444444,
             "#bd3786"
            ],
            [
             0.5555555555555556,
             "#d8576b"
            ],
            [
             0.6666666666666666,
             "#ed7953"
            ],
            [
             0.7777777777777778,
             "#fb9f3a"
            ],
            [
             0.8888888888888888,
             "#fdca26"
            ],
            [
             1,
             "#f0f921"
            ]
           ]
          },
          "colorway": [
           "#636efa",
           "#EF553B",
           "#00cc96",
           "#ab63fa",
           "#FFA15A",
           "#19d3f3",
           "#FF6692",
           "#B6E880",
           "#FF97FF",
           "#FECB52"
          ],
          "font": {
           "color": "#2a3f5f"
          },
          "geo": {
           "bgcolor": "white",
           "lakecolor": "white",
           "landcolor": "#E5ECF6",
           "showlakes": true,
           "showland": true,
           "subunitcolor": "white"
          },
          "hoverlabel": {
           "align": "left"
          },
          "hovermode": "closest",
          "mapbox": {
           "style": "light"
          },
          "paper_bgcolor": "white",
          "plot_bgcolor": "#E5ECF6",
          "polar": {
           "angularaxis": {
            "gridcolor": "white",
            "linecolor": "white",
            "ticks": ""
           },
           "bgcolor": "#E5ECF6",
           "radialaxis": {
            "gridcolor": "white",
            "linecolor": "white",
            "ticks": ""
           }
          },
          "scene": {
           "xaxis": {
            "backgroundcolor": "#E5ECF6",
            "gridcolor": "white",
            "gridwidth": 2,
            "linecolor": "white",
            "showbackground": true,
            "ticks": "",
            "zerolinecolor": "white"
           },
           "yaxis": {
            "backgroundcolor": "#E5ECF6",
            "gridcolor": "white",
            "gridwidth": 2,
            "linecolor": "white",
            "showbackground": true,
            "ticks": "",
            "zerolinecolor": "white"
           },
           "zaxis": {
            "backgroundcolor": "#E5ECF6",
            "gridcolor": "white",
            "gridwidth": 2,
            "linecolor": "white",
            "showbackground": true,
            "ticks": "",
            "zerolinecolor": "white"
           }
          },
          "shapedefaults": {
           "line": {
            "color": "#2a3f5f"
           }
          },
          "ternary": {
           "aaxis": {
            "gridcolor": "white",
            "linecolor": "white",
            "ticks": ""
           },
           "baxis": {
            "gridcolor": "white",
            "linecolor": "white",
            "ticks": ""
           },
           "bgcolor": "#E5ECF6",
           "caxis": {
            "gridcolor": "white",
            "linecolor": "white",
            "ticks": ""
           }
          },
          "title": {
           "x": 0.05
          },
          "xaxis": {
           "automargin": true,
           "gridcolor": "white",
           "linecolor": "white",
           "ticks": "",
           "title": {
            "standoff": 15
           },
           "zerolinecolor": "white",
           "zerolinewidth": 2
          },
          "yaxis": {
           "automargin": true,
           "gridcolor": "white",
           "linecolor": "white",
           "ticks": "",
           "title": {
            "standoff": 15
           },
           "zerolinecolor": "white",
           "zerolinewidth": 2
          }
         }
        },
        "title": {
         "text": "Average vs Global subfamily entropy"
        },
        "width": 400,
        "xaxis": {
         "anchor": "y",
         "domain": [
          0,
          1
         ],
         "title": {
          "text": "Global entropy"
         }
        },
        "yaxis": {
         "anchor": "x",
         "domain": [
          0,
          1
         ],
         "title": {
          "text": "Average subfamily entropy"
         }
        }
       }
      },
      "text/html": [
       "<div>                            <div id=\"954fcc3f-2cda-4d08-ad7e-92873627f45a\" class=\"plotly-graph-div\" style=\"height:400px; width:400px;\"></div>            <script type=\"text/javascript\">                require([\"plotly\"], function(Plotly) {                    window.PLOTLYENV=window.PLOTLYENV || {};                                    if (document.getElementById(\"954fcc3f-2cda-4d08-ad7e-92873627f45a\")) {                    Plotly.newPlot(                        \"954fcc3f-2cda-4d08-ad7e-92873627f45a\",                        [{\"hovertemplate\":\"<b>%{hovertext}</b><br><br>x=%{x}<br>y=%{y}<extra></extra>\",\"hovertext\":[\"0K\",\"1C\",\"2Y\",\"3I\",\"4S\",\"5V\",\"6H\",\"7I\",\"8E\",\"9C\",\"10F\",\"11E\",\"12V\",\"13P\",\"14L\",\"15A\",\"16C\",\"17Q\",\"18H\",\"19Y\",\"20G\",\"21V\",\"22I\",\"23C\",\"24N\",\"25M\",\"26P\",\"27V\",\"28P\",\"29M\",\"30M\",\"31D\",\"32R\",\"33R\",\"34D\",\"35C\",\"36Q\",\"50K\",\"51G\",\"52Q\",\"53A\",\"54V\",\"55I\",\"56I\",\"57W\",\"58I\",\"60E\",\"61E\",\"62H\",\"63K\",\"64E\",\"65D\",\"70M\",\"71R\",\"72S\",\"73D\",\"74K\",\"78Q\",\"79V\",\"80L\",\"81C\",\"82T\",\"98W\",\"100E\",\"101R\",\"102G\",\"103N\",\"114L\",\"115I\",\"116Q\",\"117I\",\"119L\",\"120G\",\"121Q\",\"122F\",\"126A\",\"145W\",\"146T\",\"147Q\",\"148W\",\"153Q\",\"154H\",\"155S\",\"156H\",\"157R\",\"158Q\",\"159F\",\"160E\",\"161G\",\"162F\",\"171D\",\"177K\",\"178F\",\"179P\",\"180N\",\"184L\",\"191T\",\"192N\",\"193F\",\"194T\",\"195C\",\"196C\",\"197L\",\"198Y\",\"199Q\",\"200H\",\"201A\",\"202C\",\"203K\",\"204F\",\"205E\",\"206P\",\"207G\",\"208A\",\"209R\",\"210D\",\"211S\",\"212R\",\"213M\",\"214M\",\"215W\",\"216L\",\"217C\",\"218I\",\"219A\",\"220F\",\"221L\",\"222M\",\"223A\",\"224F\",\"225G\",\"226M\",\"227E\",\"228N\",\"229D\",\"230Q\",\"231K\",\"232F\",\"233H\",\"234E\",\"235C\",\"236Y\",\"237S\",\"238A\",\"239S\",\"240L\",\"241R\",\"242P\",\"243K\",\"244V\",\"245D\",\"246W\",\"247S\",\"248I\",\"249P\",\"250S\",\"251H\",\"252P\",\"253S\",\"254R\",\"255T\",\"256A\",\"257F\",\"258L\",\"259D\",\"260G\",\"261S\",\"262G\",\"263A\",\"264N\",\"265N\",\"266Y\",\"267V\",\"268A\",\"269K\",\"270S\",\"271F\",\"272H\",\"273I\",\"274F\",\"275K\",\"276A\",\"277W\",\"278P\",\"279W\",\"280S\",\"281F\",\"282Y\",\"283M\",\"284I\",\"285T\",\"286D\",\"287H\",\"288A\",\"289A\",\"290M\",\"291N\",\"292H\",\"293A\",\"294M\",\"200-\",\"201-\",\"202-\",\"203-\",\"204-\",\"205-\",\"206-\",\"207-\",\"208-\",\"209-\",\"210-\",\"211-\",\"212-\",\"213-\",\"214-\",\"215-\",\"216-\",\"217-\",\"218-\",\"219-\",\"220-\",\"221-\",\"222-\",\"223-\",\"224-\",\"225-\",\"226-\",\"227-\",\"228-\",\"229-\",\"230-\",\"231-\",\"232-\",\"233-\",\"234-\",\"235-\",\"236-\",\"237-\",\"238-\",\"239-\",\"240-\",\"241-\",\"242-\",\"243-\",\"244-\",\"245-\",\"246-\",\"247-\",\"248-\",\"249-\",\"250-\",\"251-\",\"252-\",\"253-\",\"254-\",\"255-\",\"256-\",\"257-\",\"258-\",\"259-\",\"260-\",\"261-\",\"262-\",\"263-\",\"264-\",\"265-\",\"266-\",\"267-\",\"268-\",\"269-\",\"270-\",\"271-\",\"272-\",\"273-\",\"274-\",\"275-\",\"276-\",\"277-\",\"278-\",\"279-\",\"280-\",\"281-\",\"282-\",\"283-\",\"284-\",\"285-\",\"286-\",\"287-\",\"288-\",\"289-\",\"290-\",\"291-\",\"292-\",\"293-\",\"294-\"],\"legendgroup\":\"\",\"marker\":{\"color\":\"#636efa\",\"symbol\":\"circle\"},\"mode\":\"markers\",\"name\":\"\",\"orientation\":\"v\",\"showlegend\":false,\"x\":[0.54,0.54,0.55,0.55,0.56,0.54,0.56,0.58,0.54,0.56,0.56,0.59,0.4,0.41,0.44,0.43,0.49,0.39,0.45,0.45,0.44,0.48,0.45,0.47,0.45,0.47,0.61,0.62,0.34,0.32,0.36,0.3,0.35,0.3,0.3,0.32,0.32,0.43,0.45,0.52,0.47,0.44,0.45,0.48,0.44,0.43,0.42,0.39,0.37,0.41,0.24,0.24,0.32,0.39,0.44,0.44,0.33,0.41,0.42,0.43,0.48,0.41,0.47,0.44,0.43,0.5,0.47,0.66,0.66,0.66,0.44,0.4,0.48,0.38,0.39,0.51,0.48,0.56,0.56,0.5,0.37,0.31,0.36,0.51,0.53,0.53,0.52,0.52,0.41,0.43,0.39,0.41,0.57,0.62,0.53,0.48,0.41,0.45,0.4,0.66,0.38,0.42,0.4,0.41,0.61,0.6,0.59,0.55,0.63,0.66,0.64,0.6,0.6,0.57,0.62,0.58,0.6,0.62,0.66,0.63,0.58,0.6,0.57,0.59,0.59,0.59,0.55,0.56,0.58,0.62,0.6,0.62,0.61,0.61,0.61,0.66,0.61,0.6,0.64,0.6,0.66,0.66,0.66,0.64,0.62,0.56,0.56,0.56,0.6,0.63,0.67,0.67,0.67,0.54,0.55,0.54,0.52,0.54,0.47,0.49,0.49,0.53,0.59,0.66,0.6,0.65,0.66,0.64,0.63,0.58,0.54,0.51,0.63,0.56,0.6,0.55,0.58,0.5,0.51,0.52,0.53,0.56,0.43,0.47,0.49,0.65,0.65,0.66,0.51,0.5,0.47,0.5,0.46,0.4,0.46,0.47,0.48,0.44,0.41,0.48,0.44,0.43,0.46,0.49,0.42,0.36,0.38,0.39,0.39,0.35,0.33,0.35,0.4,0.33,0.36,0.32,0.36,0.35,0.44,0.33,0.38,0.33,0.33,0.28,0.36,0.41,0.41,0.4,0.39,0.41,0.39,0.36,0.36,0.37,0.39,0.2,0.18,0.32,0.24,0.22,0.26,0.33,0.25,0.26,0.25,0.28,0.23,0.26,0.29,0.21,0.21,0.17,0.19,0.21,0.32,0.26,0.22,0.25,0.28,0.27,0.27,0.23,0.25,0.2,0.2,0.0,0.18,0.01,0.13,0.05,0.18,0.05,0.14,0.15,0.09,0.12,0.12,0.12,0.14,0.11,0.08,0.07,0.23,0.08,0.04,0.08,0.01,0.11,0.13,0.15,0.0,0.08,0.15,0.14,0.02],\"xaxis\":\"x\",\"y\":[-6.04,-6.04,-6.18,-6.21,-6.13,-6.04,-6.29,-6.36,-6.09,-6.27,-6.18,-6.48,-5.11,-5.25,-5.29,-5.4,-5.57,-4.71,-5.38,-5.12,-5.58,-5.97,-5.53,-5.79,-5.69,-5.77,-6.69,-6.72,-4.69,-4.45,-5.02,-4.65,-4.79,-4.23,-4.7,-4.99,-4.74,-5.71,-5.68,-6.06,-5.66,-5.57,-5.59,-5.85,-5.55,-5.66,-5.45,-4.64,-4.87,-5.24,-4.14,-4.1,-4.69,-4.95,-4.73,-5.01,-4.18,-4.92,-4.82,-5.14,-5.26,-4.37,-4.88,-4.83,-4.36,-5.08,-5.14,-6.91,-6.92,-6.91,-4.75,-4.44,-5.19,-3.98,-4.01,-5.39,-5.34,-6.04,-6.04,-5.6,-4.25,-4.03,-4.33,-5.89,-6.07,-6.16,-6.14,-6.09,-4.92,-5.13,-4.96,-4.76,-6.39,-6.72,-6.04,-5.91,-4.62,-4.83,-4.65,-6.87,-3.89,-4.44,-4.02,-4.42,-5.77,-5.94,-5.53,-5.3,-6.48,-6.8,-6.47,-6.36,-6.32,-5.84,-5.51,-5.39,-5.76,-6.13,-6.89,-6.08,-5.44,-5.5,-5.53,-5.21,-5.89,-5.58,-4.76,-4.85,-5.36,-5.85,-5.99,-6.1,-5.92,-5.99,-5.87,-6.9,-5.96,-6.02,-6.4,-6.05,-6.84,-6.81,-6.88,-6.62,-6.17,-4.88,-4.86,-5.44,-5.64,-6.15,-6.93,-6.97,-6.97,-4.74,-5.09,-4.71,-4.57,-4.65,-4.26,-4.62,-4.8,-4.81,-5.35,-6.82,-6.19,-6.78,-6.85,-6.63,-6.46,-5.84,-5.71,-4.79,-6.56,-5.44,-6.02,-5.4,-5.77,-4.74,-4.96,-4.93,-4.75,-4.97,-4.68,-4.46,-4.18,-6.84,-6.86,-6.91,-4.5,-4.54,-4.47,-4.14,-3.94,-3.55,-4.08,-3.93,-4.1,-3.82,-3.7,-4.34,-3.9,-4.08,-4.07,-3.98,-3.77,-3.06,-3.7,-3.84,-3.97,-3.25,-3.55,-3.74,-3.76,-3.79,-3.88,-3.62,-3.44,-3.6,-4.1,-3.36,-3.83,-3.07,-3.36,-3.06,-3.25,-3.87,-3.78,-3.86,-4.03,-3.78,-3.49,-3.69,-3.59,-3.71,-3.86,-1.9,-2.52,-3.47,-2.58,-2.88,-3.14,-2.87,-2.75,-3.12,-3.32,-2.75,-2.09,-2.73,-3.34,-2.52,-2.22,-2.54,-3.07,-2.96,-3.19,-3.5,-2.49,-3.39,-2.56,-3.3,-2.56,-2.2,-2.71,-2.75,-3.0,0.0,-2.3,-0.07,-1.82,-0.59,-2.45,-0.72,-2.38,-1.8,-1.06,-1.81,-1.27,-1.18,-1.69,-1.44,-1.21,-1.39,-2.71,-1.52,-0.4,-0.98,-0.07,-1.14,-2.05,-1.97,0.0,-1.14,-1.99,-1.87,-0.48],\"yaxis\":\"y\",\"type\":\"scatter\"}],                        {\"template\":{\"data\":{\"histogram2dcontour\":[{\"type\":\"histogram2dcontour\",\"colorbar\":{\"outlinewidth\":0,\"ticks\":\"\"},\"colorscale\":[[0.0,\"#0d0887\"],[0.1111111111111111,\"#46039f\"],[0.2222222222222222,\"#7201a8\"],[0.3333333333333333,\"#9c179e\"],[0.4444444444444444,\"#bd3786\"],[0.5555555555555556,\"#d8576b\"],[0.6666666666666666,\"#ed7953\"],[0.7777777777777778,\"#fb9f3a\"],[0.8888888888888888,\"#fdca26\"],[1.0,\"#f0f921\"]]}],\"choropleth\":[{\"type\":\"choropleth\",\"colorbar\":{\"outlinewidth\":0,\"ticks\":\"\"}}],\"histogram2d\":[{\"type\":\"histogram2d\",\"colorbar\":{\"outlinewidth\":0,\"ticks\":\"\"},\"colorscale\":[[0.0,\"#0d0887\"],[0.1111111111111111,\"#46039f\"],[0.2222222222222222,\"#7201a8\"],[0.3333333333333333,\"#9c179e\"],[0.4444444444444444,\"#bd3786\"],[0.5555555555555556,\"#d8576b\"],[0.6666666666666666,\"#ed7953\"],[0.7777777777777778,\"#fb9f3a\"],[0.8888888888888888,\"#fdca26\"],[1.0,\"#f0f921\"]]}],\"heatmap\":[{\"type\":\"heatmap\",\"colorbar\":{\"outlinewidth\":0,\"ticks\":\"\"},\"colorscale\":[[0.0,\"#0d0887\"],[0.1111111111111111,\"#46039f\"],[0.2222222222222222,\"#7201a8\"],[0.3333333333333333,\"#9c179e\"],[0.4444444444444444,\"#bd3786\"],[0.5555555555555556,\"#d8576b\"],[0.6666666666666666,\"#ed7953\"],[0.7777777777777778,\"#fb9f3a\"],[0.8888888888888888,\"#fdca26\"],[1.0,\"#f0f921\"]]}],\"heatmapgl\":[{\"type\":\"heatmapgl\",\"colorbar\":{\"outlinewidth\":0,\"ticks\":\"\"},\"colorscale\":[[0.0,\"#0d0887\"],[0.1111111111111111,\"#46039f\"],[0.2222222222222222,\"#7201a8\"],[0.3333333333333333,\"#9c179e\"],[0.4444444444444444,\"#bd3786\"],[0.5555555555555556,\"#d8576b\"],[0.6666666666666666,\"#ed7953\"],[0.7777777777777778,\"#fb9f3a\"],[0.8888888888888888,\"#fdca26\"],[1.0,\"#f0f921\"]]}],\"contourcarpet\":[{\"type\":\"contourcarpet\",\"colorbar\":{\"outlinewidth\":0,\"ticks\":\"\"}}],\"contour\":[{\"type\":\"contour\",\"colorbar\":{\"outlinewidth\":0,\"ticks\":\"\"},\"colorscale\":[[0.0,\"#0d0887\"],[0.1111111111111111,\"#46039f\"],[0.2222222222222222,\"#7201a8\"],[0.3333333333333333,\"#9c179e\"],[0.4444444444444444,\"#bd3786\"],[0.5555555555555556,\"#d8576b\"],[0.6666666666666666,\"#ed7953\"],[0.7777777777777778,\"#fb9f3a\"],[0.8888888888888888,\"#fdca26\"],[1.0,\"#f0f921\"]]}],\"surface\":[{\"type\":\"surface\",\"colorbar\":{\"outlinewidth\":0,\"ticks\":\"\"},\"colorscale\":[[0.0,\"#0d0887\"],[0.1111111111111111,\"#46039f\"],[0.2222222222222222,\"#7201a8\"],[0.3333333333333333,\"#9c179e\"],[0.4444444444444444,\"#bd3786\"],[0.5555555555555556,\"#d8576b\"],[0.6666666666666666,\"#ed7953\"],[0.7777777777777778,\"#fb9f3a\"],[0.8888888888888888,\"#fdca26\"],[1.0,\"#f0f921\"]]}],\"mesh3d\":[{\"type\":\"mesh3d\",\"colorbar\":{\"outlinewidth\":0,\"ticks\":\"\"}}],\"scatter\":[{\"fillpattern\":{\"fillmode\":\"overlay\",\"size\":10,\"solidity\":0.2},\"type\":\"scatter\"}],\"parcoords\":[{\"type\":\"parcoords\",\"line\":{\"colorbar\":{\"outlinewidth\":0,\"ticks\":\"\"}}}],\"scatterpolargl\":[{\"type\":\"scatterpolargl\",\"marker\":{\"colorbar\":{\"outlinewidth\":0,\"ticks\":\"\"}}}],\"bar\":[{\"error_x\":{\"color\":\"#2a3f5f\"},\"error_y\":{\"color\":\"#2a3f5f\"},\"marker\":{\"line\":{\"color\":\"#E5ECF6\",\"width\":0.5},\"pattern\":{\"fillmode\":\"overlay\",\"size\":10,\"solidity\":0.2}},\"type\":\"bar\"}],\"scattergeo\":[{\"type\":\"scattergeo\",\"marker\":{\"colorbar\":{\"outlinewidth\":0,\"ticks\":\"\"}}}],\"scatterpolar\":[{\"type\":\"scatterpolar\",\"marker\":{\"colorbar\":{\"outlinewidth\":0,\"ticks\":\"\"}}}],\"histogram\":[{\"marker\":{\"pattern\":{\"fillmode\":\"overlay\",\"size\":10,\"solidity\":0.2}},\"type\":\"histogram\"}],\"scattergl\":[{\"type\":\"scattergl\",\"marker\":{\"colorbar\":{\"outlinewidth\":0,\"ticks\":\"\"}}}],\"scatter3d\":[{\"type\":\"scatter3d\",\"line\":{\"colorbar\":{\"outlinewidth\":0,\"ticks\":\"\"}},\"marker\":{\"colorbar\":{\"outlinewidth\":0,\"ticks\":\"\"}}}],\"scattermapbox\":[{\"type\":\"scattermapbox\",\"marker\":{\"colorbar\":{\"outlinewidth\":0,\"ticks\":\"\"}}}],\"scatterternary\":[{\"type\":\"scatterternary\",\"marker\":{\"colorbar\":{\"outlinewidth\":0,\"ticks\":\"\"}}}],\"scattercarpet\":[{\"type\":\"scattercarpet\",\"marker\":{\"colorbar\":{\"outlinewidth\":0,\"ticks\":\"\"}}}],\"carpet\":[{\"aaxis\":{\"endlinecolor\":\"#2a3f5f\",\"gridcolor\":\"white\",\"linecolor\":\"white\",\"minorgridcolor\":\"white\",\"startlinecolor\":\"#2a3f5f\"},\"baxis\":{\"endlinecolor\":\"#2a3f5f\",\"gridcolor\":\"white\",\"linecolor\":\"white\",\"minorgridcolor\":\"white\",\"startlinecolor\":\"#2a3f5f\"},\"type\":\"carpet\"}],\"table\":[{\"cells\":{\"fill\":{\"color\":\"#EBF0F8\"},\"line\":{\"color\":\"white\"}},\"header\":{\"fill\":{\"color\":\"#C8D4E3\"},\"line\":{\"color\":\"white\"}},\"type\":\"table\"}],\"barpolar\":[{\"marker\":{\"line\":{\"color\":\"#E5ECF6\",\"width\":0.5},\"pattern\":{\"fillmode\":\"overlay\",\"size\":10,\"solidity\":0.2}},\"type\":\"barpolar\"}],\"pie\":[{\"automargin\":true,\"type\":\"pie\"}]},\"layout\":{\"autotypenumbers\":\"strict\",\"colorway\":[\"#636efa\",\"#EF553B\",\"#00cc96\",\"#ab63fa\",\"#FFA15A\",\"#19d3f3\",\"#FF6692\",\"#B6E880\",\"#FF97FF\",\"#FECB52\"],\"font\":{\"color\":\"#2a3f5f\"},\"hovermode\":\"closest\",\"hoverlabel\":{\"align\":\"left\"},\"paper_bgcolor\":\"white\",\"plot_bgcolor\":\"#E5ECF6\",\"polar\":{\"bgcolor\":\"#E5ECF6\",\"angularaxis\":{\"gridcolor\":\"white\",\"linecolor\":\"white\",\"ticks\":\"\"},\"radialaxis\":{\"gridcolor\":\"white\",\"linecolor\":\"white\",\"ticks\":\"\"}},\"ternary\":{\"bgcolor\":\"#E5ECF6\",\"aaxis\":{\"gridcolor\":\"white\",\"linecolor\":\"white\",\"ticks\":\"\"},\"baxis\":{\"gridcolor\":\"white\",\"linecolor\":\"white\",\"ticks\":\"\"},\"caxis\":{\"gridcolor\":\"white\",\"linecolor\":\"white\",\"ticks\":\"\"}},\"coloraxis\":{\"colorbar\":{\"outlinewidth\":0,\"ticks\":\"\"}},\"colorscale\":{\"sequential\":[[0.0,\"#0d0887\"],[0.1111111111111111,\"#46039f\"],[0.2222222222222222,\"#7201a8\"],[0.3333333333333333,\"#9c179e\"],[0.4444444444444444,\"#bd3786\"],[0.5555555555555556,\"#d8576b\"],[0.6666666666666666,\"#ed7953\"],[0.7777777777777778,\"#fb9f3a\"],[0.8888888888888888,\"#fdca26\"],[1.0,\"#f0f921\"]],\"sequentialminus\":[[0.0,\"#0d0887\"],[0.1111111111111111,\"#46039f\"],[0.2222222222222222,\"#7201a8\"],[0.3333333333333333,\"#9c179e\"],[0.4444444444444444,\"#bd3786\"],[0.5555555555555556,\"#d8576b\"],[0.6666666666666666,\"#ed7953\"],[0.7777777777777778,\"#fb9f3a\"],[0.8888888888888888,\"#fdca26\"],[1.0,\"#f0f921\"]],\"diverging\":[[0,\"#8e0152\"],[0.1,\"#c51b7d\"],[0.2,\"#de77ae\"],[0.3,\"#f1b6da\"],[0.4,\"#fde0ef\"],[0.5,\"#f7f7f7\"],[0.6,\"#e6f5d0\"],[0.7,\"#b8e186\"],[0.8,\"#7fbc41\"],[0.9,\"#4d9221\"],[1,\"#276419\"]]},\"xaxis\":{\"gridcolor\":\"white\",\"linecolor\":\"white\",\"ticks\":\"\",\"title\":{\"standoff\":15},\"zerolinecolor\":\"white\",\"automargin\":true,\"zerolinewidth\":2},\"yaxis\":{\"gridcolor\":\"white\",\"linecolor\":\"white\",\"ticks\":\"\",\"title\":{\"standoff\":15},\"zerolinecolor\":\"white\",\"automargin\":true,\"zerolinewidth\":2},\"scene\":{\"xaxis\":{\"backgroundcolor\":\"#E5ECF6\",\"gridcolor\":\"white\",\"linecolor\":\"white\",\"showbackground\":true,\"ticks\":\"\",\"zerolinecolor\":\"white\",\"gridwidth\":2},\"yaxis\":{\"backgroundcolor\":\"#E5ECF6\",\"gridcolor\":\"white\",\"linecolor\":\"white\",\"showbackground\":true,\"ticks\":\"\",\"zerolinecolor\":\"white\",\"gridwidth\":2},\"zaxis\":{\"backgroundcolor\":\"#E5ECF6\",\"gridcolor\":\"white\",\"linecolor\":\"white\",\"showbackground\":true,\"ticks\":\"\",\"zerolinecolor\":\"white\",\"gridwidth\":2}},\"shapedefaults\":{\"line\":{\"color\":\"#2a3f5f\"}},\"annotationdefaults\":{\"arrowcolor\":\"#2a3f5f\",\"arrowhead\":0,\"arrowwidth\":1},\"geo\":{\"bgcolor\":\"white\",\"landcolor\":\"#E5ECF6\",\"subunitcolor\":\"white\",\"showland\":true,\"showlakes\":true,\"lakecolor\":\"white\"},\"title\":{\"x\":0.05},\"mapbox\":{\"style\":\"light\"}}},\"xaxis\":{\"anchor\":\"y\",\"domain\":[0.0,1.0],\"title\":{\"text\":\"Global entropy\"}},\"yaxis\":{\"anchor\":\"x\",\"domain\":[0.0,1.0],\"title\":{\"text\":\"Average subfamily entropy\"}},\"legend\":{\"tracegroupgap\":0},\"margin\":{\"t\":60},\"height\":400,\"width\":400,\"title\":{\"text\":\"Average vs Global subfamily entropy\"}},                        {\"responsive\": true}                    ).then(function(){\n",
       "                            \n",
       "var gd = document.getElementById('954fcc3f-2cda-4d08-ad7e-92873627f45a');\n",
       "var x = new MutationObserver(function (mutations, observer) {{\n",
       "        var display = window.getComputedStyle(gd).display;\n",
       "        if (!display || display === 'none') {{\n",
       "            console.log([gd, 'removed!']);\n",
       "            Plotly.purge(gd);\n",
       "            observer.disconnect();\n",
       "        }}\n",
       "}});\n",
       "\n",
       "// Listen for the removal of the full notebook cells\n",
       "var notebookContainer = gd.closest('#notebook-container');\n",
       "if (notebookContainer) {{\n",
       "    x.observe(notebookContainer, {childList: true});\n",
       "}}\n",
       "\n",
       "// Listen for the clearing of the current output cell\n",
       "var outputEl = gd.closest('.output');\n",
       "if (outputEl) {{\n",
       "    x.observe(outputEl, {childList: true});\n",
       "}}\n",
       "\n",
       "                        })                };                });            </script>        </div>"
      ]
     },
     "metadata": {},
     "output_type": "display_data"
    }
   ],
   "source": [
    "# Make scatter plot in new figure\n",
    "\n",
    "fig = px.scatter(x=average_subfam, \n",
    "                 y=global_entropy,\n",
    "                 hover_name=msa_residues,\n",
    "                 width=400,\n",
    "                 height=400)\n",
    "fig.update_layout(title='Average vs Global subfamily entropy', xaxis_title='Global entropy', yaxis_title='Average subfamily entropy')\n",
    "fig.show()"
   ]
  },
  {
   "cell_type": "code",
   "execution_count": null,
   "metadata": {},
   "outputs": [],
   "source": [
    "# TODO Try with own subgroups definition"
   ]
  }
 ],
 "metadata": {
  "kernelspec": {
   "display_name": "TEA",
   "language": "python",
   "name": "python3"
  },
  "language_info": {
   "codemirror_mode": {
    "name": "ipython",
    "version": 3
   },
   "file_extension": ".py",
   "mimetype": "text/x-python",
   "name": "python",
   "nbconvert_exporter": "python",
   "pygments_lexer": "ipython3",
   "version": "3.10.8"
  }
 },
 "nbformat": 4,
 "nbformat_minor": 2
}
